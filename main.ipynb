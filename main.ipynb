{
 "cells": [
  {
   "cell_type": "code",
   "execution_count": 1,
   "metadata": {},
   "outputs": [],
   "source": [
    "import matplotlib\n",
    "import matplotlib.pyplot as plt\n",
    "import pandas as pd\n",
    "import numpy as np\n",
    "\n",
    "from lib import path_tools as pt\n",
    "from lib import import_data\n",
    "import pandas as pd"
   ]
  },
  {
   "cell_type": "code",
   "execution_count": 2,
   "metadata": {},
   "outputs": [],
   "source": [
    "pt.wipe_scrap()\n",
    "\n",
    "# Set the technique we're working with today\n",
    "# Valid values: 'xrd', 'pl', 'uvvis'\n",
    "flag = \"pl\""
   ]
  },
  {
   "cell_type": "code",
   "execution_count": null,
   "metadata": {},
   "outputs": [],
   "source": [
    "# Identify the folder(s) where the raw, original data is\n",
    "# Use a list to store multiple directories that you want ready to plot\n",
    "\n",
    "# ETB-046 Variables\n",
    "samples_dir_etb046 = \"190722 ETB-046 MAPbI on glass FF/\"\n",
    "data_dict_etb046 = import_data.init(flag, samples_dir_etb046)\n",
    "cypher_etb046 = (\n",
    "    \"30sec\",\n",
    "    \"1min\",\n",
    "    \"2min\",\n",
    "    \"3min\",\n",
    "    \"5min\",\n",
    "    \"20min\",\n",
    ")"
   ]
  },
  {
   "cell_type": "code",
   "execution_count": null,
   "metadata": {},
   "outputs": [],
   "source": [
    "# ETB-047 Variables\n",
    "samples_dir_etb047 = \"190903 ETB-047 MAPbI on glass FF/\"\n",
    "data_dict_etb047 = import_data.init(flag, samples_dir_etb047)\n",
    "print(data_dict_etb047.keys())\n",
    "cypher_etb047 = (\n",
    "    \"10min\",\n",
    "    \"40min\",\n",
    "    \"60min\",\n",
    "    \"80min\",\n",
    "    \"100min\",\n",
    "    \"120min\",\n",
    ")"
   ]
  },
  {
   "cell_type": "code",
   "execution_count": null,
   "metadata": {},
   "outputs": [],
   "source": [
    "# ETB-048 Variables\n",
    "samples_dir_etb048 = \"190904 ETB-048 MAPbI on glass FF/\"\n",
    "data_dict_etb048 = import_data.init(flag, samples_dir_etb048)\n",
    "print(data_dict_etb048.keys())\n",
    "\n",
    "cypher_etb048 = (\n",
    "    \"4min\",\n",
    "    \"15min\",\n",
    ")"
   ]
  },
  {
   "cell_type": "code",
   "execution_count": null,
   "metadata": {},
   "outputs": [],
   "source": [
    "fig = plt.figure(1)\n",
    "fig_ax = plt.gca()\n",
    "\n",
    "offset = 0\n",
    "master_cypher = (\n",
    "    \"30sec\",\n",
    "    \"1min\",\n",
    "    \"2min\",\n",
    "    \"3min\",\n",
    "    \"4min\",\n",
    "    \"5min\",\n",
    "    \"10min\",\n",
    ")\n",
    "\n",
    "for key in master_cypher:\n",
    "    if key in data_dict_etb046.keys():\n",
    "        plt.figure(1)\n",
    "        plt.plot(data_dict_etb046[key][\"2theta\"], data_dict_etb046[key][\"counts\"] + offset,\n",
    "                 label=key)\n",
    "        offset += max(data_dict_etb046[key][\"counts\"])\n",
    "    elif key in data_dict_etb047.keys():\n",
    "        plt.figure(1)\n",
    "        plt.plot(data_dict_etb047[key][\"2theta\"], data_dict_etb047[key][\"counts\"] + offset,\n",
    "                 label=key)\n",
    "        offset += max(data_dict_etb047[key][\"counts\"])\n",
    "    elif key in data_dict_etb048.keys():\n",
    "        plt.figure(1)\n",
    "        plt.plot(data_dict_etb048[key][\"2theta\"], data_dict_etb048[key][\"counts\"] + offset,\n",
    "                 label=key)\n",
    "        offset += max(data_dict_etb048[key][\"counts\"])\n",
    "\n",
    "plt.style.use('default')\n",
    "\n",
    "plt.xlabel(\"2θ [degrees]\", weight=\"semibold\")\n",
    "plt.ylabel(\"Counts\", weight=\"semibold\")\n",
    "fig_ax.set_yticklabels([])\n",
    "plt.xlim(min(data_dict_etb046[\"1min\"][\"2theta\"]), max(data_dict_etb046[\"1min\"][\"2theta\"]))\n",
    "\n",
    "plt.title(\"MAPbI Film Formation XRD - Early Stages\",weight=\"semibold\")\n",
    "plt.legend(loc='center left', bbox_to_anchor=(1.01, 0,.22,1),mode='expand', frameon=False)"
   ]
  },
  {
   "cell_type": "code",
   "execution_count": null,
   "metadata": {},
   "outputs": [],
   "source": [
    "fig.savefig(\"stacked.png\", dpi=200, format='png', bbox_inches='tight')"
   ]
  },
  {
   "cell_type": "code",
   "execution_count": null,
   "metadata": {},
   "outputs": [],
   "source": [
    "fig2 = plt.figure(2)\n",
    "fig2_ax = plt.gca()\n",
    "\n",
    "offset = 0\n",
    "\n",
    "for key in master_cypher:\n",
    "    if key in data_dict_etb046.keys():\n",
    "        plt.figure(2)\n",
    "        plt.plot(data_dict_etb046[key][\"2theta\"], data_dict_etb046[key][\"counts\"] + offset,\n",
    "                 label=key)\n",
    "    elif key in data_dict_etb047.keys():\n",
    "        plt.figure(2)\n",
    "        plt.plot(data_dict_etb047[key][\"2theta\"], data_dict_etb047[key][\"counts\"] + offset,\n",
    "                 label=key)\n",
    "    elif key in data_dict_etb048.keys():\n",
    "        plt.figure(2)\n",
    "        plt.plot(data_dict_etb048[key][\"2theta\"], data_dict_etb048[key][\"counts\"] + offset,\n",
    "                 label=key)\n",
    "\n",
    "plt.style.use('default')\n",
    "\n",
    "plt.xlabel(\"2θ [degrees]\", weight=\"semibold\")\n",
    "plt.ylabel(\"Counts\", weight=\"semibold\")\n",
    "plt.xlim(11, 15)\n",
    "\n",
    "fig2_ax.set_yticklabels([])\n",
    "\n",
    "plt.title(\"MAPbI Film Formation XRD - PbI2 and MAPbI Peaks\",weight=\"semibold\")\n",
    "plt.legend(loc='center left', bbox_to_anchor=(1.01, 0,.22,1),mode='expand', frameon=False)"
   ]
  },
  {
   "cell_type": "code",
   "execution_count": null,
   "metadata": {},
   "outputs": [],
   "source": [
    "fig2.savefig(\"zoom_11_15.png\", dpi=200, format='png', bbox_inches='tight')"
   ]
  },
  {
   "cell_type": "code",
   "execution_count": null,
   "metadata": {},
   "outputs": [],
   "source": [
    "fig3 = plt.figure(3)\n",
    "fig3_ax = plt.gca()\n",
    "\n",
    "offset = 0\n",
    "\n",
    "for key in master_cypher:\n",
    "    if key in data_dict_etb046.keys():\n",
    "        plt.figure(3)\n",
    "        plt.plot(data_dict_etb046[key][\"2theta\"], data_dict_etb046[key][\"counts\"] + offset,\n",
    "                 label=key)\n",
    "    elif key in data_dict_etb047.keys():\n",
    "        plt.figure(3)\n",
    "        plt.plot(data_dict_etb047[key][\"2theta\"], data_dict_etb047[key][\"counts\"] + offset,\n",
    "                 label=key)\n",
    "    elif key in data_dict_etb048.keys():\n",
    "        plt.figure(3)\n",
    "        plt.plot(data_dict_etb048[key][\"2theta\"], data_dict_etb048[key][\"counts\"] + offset,\n",
    "                 label=key)\n",
    "\n",
    "plt.style.use('default')\n",
    "\n",
    "plt.xlabel(\"2θ [degrees]\", weight=\"semibold\")\n",
    "plt.ylabel(\"Counts\", weight=\"semibold\")\n",
    "plt.xlim(3, 6)\n",
    "\n",
    "fig3_ax.set_yticklabels([])\n",
    "\n",
    "plt.title(\"MAPbI Film Formation XRD - Precursor Peaks\",weight=\"semibold\")\n",
    "plt.legend(loc='center left', bbox_to_anchor=(1.01, 0,.22,1),mode='expand', frameon=False)"
   ]
  },
  {
   "cell_type": "code",
   "execution_count": null,
   "metadata": {},
   "outputs": [],
   "source": [
    "fig3.savefig(\"zoom_3_6.png\", dpi=200, format='png', bbox_inches='tight')"
   ]
  },
  {
   "cell_type": "code",
   "execution_count": 3,
   "metadata": {},
   "outputs": [
    {
     "name": "stdout",
     "output_type": "stream",
     "text": [
      "Creating new local data folder.\n",
      "read file\n",
      "read file\n",
      "read file\n",
      "read file\n",
      "read file\n",
      "read file\n",
      "read file\n",
      "read file\n",
      "return with success\n"
     ]
    },
    {
     "ename": "AttributeError",
     "evalue": "'NoneType' object has no attribute 'keys'",
     "output_type": "error",
     "traceback": [
      "\u001b[0;31m---------------------------------------------------------------------------\u001b[0m",
      "\u001b[0;31mAttributeError\u001b[0m                            Traceback (most recent call last)",
      "\u001b[0;32m<ipython-input-3-82dc80171f5a>\u001b[0m in \u001b[0;36m<module>\u001b[0;34m\u001b[0m\n\u001b[1;32m     19\u001b[0m )\n\u001b[1;32m     20\u001b[0m \u001b[0;34m\u001b[0m\u001b[0m\n\u001b[0;32m---> 21\u001b[0;31m \u001b[0mprint\u001b[0m\u001b[0;34m(\u001b[0m\u001b[0mpl_data_dict_etb046\u001b[0m\u001b[0;34m.\u001b[0m\u001b[0mkeys\u001b[0m\u001b[0;34m(\u001b[0m\u001b[0;34m)\u001b[0m\u001b[0;34m)\u001b[0m\u001b[0;34m\u001b[0m\u001b[0;34m\u001b[0m\u001b[0m\n\u001b[0m",
      "\u001b[0;31mAttributeError\u001b[0m: 'NoneType' object has no attribute 'keys'"
     ]
    }
   ],
   "source": []
  }
 ],
 "metadata": {
  "kernelspec": {
   "display_name": "Python 3",
   "language": "python",
   "name": "python3"
  },
  "language_info": {
   "codemirror_mode": {
    "name": "ipython",
    "version": 3
   },
   "file_extension": ".py",
   "mimetype": "text/x-python",
   "name": "python",
   "nbconvert_exporter": "python",
   "pygments_lexer": "ipython3",
   "version": "3.7.3"
  }
 },
 "nbformat": 4,
 "nbformat_minor": 4
}
