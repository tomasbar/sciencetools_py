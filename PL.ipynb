{
 "cells": [
  {
   "cell_type": "markdown",
   "metadata": {},
   "source": [
    "# Setup\n",
    "### Imports, wipe working directories, reload .py scripts"
   ]
  },
  {
   "cell_type": "code",
   "execution_count": 2,
   "metadata": {},
   "outputs": [
    {
     "name": "stdin",
     "output_type": "stream",
     "text": [
      "Once deleted, variables cannot be recovered. Proceed (y/[n])?  y\n"
     ]
    }
   ],
   "source": [
    "%reset"
   ]
  },
  {
   "cell_type": "code",
   "execution_count": 4,
   "metadata": {},
   "outputs": [],
   "source": [
    "import matplotlib\n",
    "import matplotlib.pyplot as plt\n",
    "import pandas as pd\n",
    "import numpy as np\n",
    "import importlib, os\n",
    "\n",
    "from lib import path_tools as pt\n",
    "from lib import import_data\n",
    "from lib import analysis\n",
    "\n",
    "%matplotlib inline"
   ]
  },
  {
   "cell_type": "code",
   "execution_count": 5,
   "metadata": {},
   "outputs": [],
   "source": [
    "pt.wipe_scrap()\n",
    "\n",
    "# Set the technique we're working with today\n",
    "# Valid values: 'xrd', 'pl', 'uvvis'\n",
    "flag = \"pl\""
   ]
  },
  {
   "cell_type": "code",
   "execution_count": 6,
   "metadata": {},
   "outputs": [
    {
     "data": {
      "text/plain": [
       "<module 'lib.analysis' from '/home/tomas/Documents/sciencetools_py/lib/analysis.py'>"
      ]
     },
     "execution_count": 6,
     "metadata": {},
     "output_type": "execute_result"
    }
   ],
   "source": [
    "importlib.reload(import_data)\n",
    "importlib.reload(analysis)"
   ]
  },
  {
   "cell_type": "markdown",
   "metadata": {},
   "source": [
    "## MAPbI Data Import\n",
    "\n",
    "***\n",
    "\n",
    "### Data structure:\n",
    "\n",
    "uv_data\n",
    " - Run ID (etb0XX)\n",
    "     - Sample ID ('1min')\n",
    "          - wavelength\n",
    "          - counts\n",
    "\n",
    "***\n",
    "\n",
    "### Run -> Sample Correspondence\n",
    "|ETB-043|ETB-044|\n",
    "|---|---|\n",
    "|20min|1min|\n",
    "|40min|2min|\n",
    "|60min|5min|\n",
    "|80min|10min|\n",
    "|100min|15min|\n",
    "|120min|20min|"
   ]
  },
  {
   "cell_type": "code",
   "execution_count": null,
   "metadata": {},
   "outputs": [],
   "source": [
    "# Identify the folder(s) where the raw, original data is\n",
    "# Use a list to store multiple directories that you want ready to plot\n",
    "pl_data = {}\n",
    "# ETB-046 Variables\n",
    "samples_dir = {\n",
    "    \"etb046\": \"190904 ETB-046 MAPbI FF/\",\n",
    "    \"etb047\": \"190902 ETB-047 MAPbI FF/\",\n",
    "    \"etb048\": \"190904 ETB-048 MAPbI FF/\",\n",
    "}\n",
    "\n",
    "for run_ID in samples_dir:\n",
    "    pl_data[run_ID] = import_data.init(flag, samples_dir[run_ID])\n",
    "\n",
    "cypher_etb046 = (\n",
    "    \"30sec\",\n",
    "    \"1min\",\n",
    "    \"1min_1\",\n",
    "    \"2min\",\n",
    "    \"3min\",\n",
    "    \"3min_1\",\n",
    "    \"5min\",\n",
    "    \"20min\",\n",
    ")\n",
    "\n",
    "cypher_etb047 = (\n",
    "    \"10min-1\",\n",
    "    \"40min-1\",\n",
    "    \"60min\",\n",
    "    \"60min-1\",\n",
    "    \"60min-point1\",\n",
    "    \"80min-1\",\n",
    "    \"100min\",\n",
    "    \"100min-1percent\",\n",
    "    \"120min-1percent\",\n",
    "    \"120min-point1percent\",\n",
    "    \"120min-point1percent_1\",\n",
    ")\n",
    "\n",
    "cypher_etb048 = (\n",
    "    \"4min\",\n",
    "    \"15min\",\n",
    ")"
   ]
  },
  {
   "cell_type": "code",
   "execution_count": null,
   "metadata": {},
   "outputs": [],
   "source": [
    "fig = plt.figure(1)\n",
    "fig_ax = plt.gca()\n",
    "\n",
    "master_cypher = (\n",
    "#     \"30sec\",\n",
    "#     \"1min\",\n",
    "#     \"1min_1\",\n",
    "#     \"2min\",\n",
    "#     \"3min\",\n",
    "#     \"3min_1\",\n",
    "    \"4min\",\n",
    "    \"5min\",\n",
    "    \"10min-1\",\n",
    "    \"20min\",\n",
    "    \"40min-1\",\n",
    "#     \"60min\",\n",
    "    \"60min-1\",\n",
    "#     \"60min-point1\",\n",
    "    \"80min-1\",\n",
    "#     \"100min\",\n",
    "    \"100min-1percent\",\n",
    "#     \"120min-1percent\",\n",
    "    \"120min-point1percent\",\n",
    "    \"120min-point1percent_1\",\n",
    ")\n",
    "\n",
    "raw_analysis = []\n",
    "\n",
    "for sample_ID in master_cypher:\n",
    "    for run_ID in samples_dir.keys():\n",
    "        if sample_ID in pl_data[run_ID].keys():\n",
    "            raw_analysis.append(analysis.FWHM(flag, sample_ID, pl_data[run_ID][sample_ID]))\n",
    "\n",
    "            \n",
    "            plt.figure(1)\n",
    "            plt.plot(pl_data[run_ID][sample_ID][\"wavelength\"], pl_data[run_ID][sample_ID][\"counts\"]/\n",
    "                     abs(max(pl_data[run_ID][sample_ID][\"counts\"])),\n",
    "                     label=sample_ID.replace(\"min\", \" min\"))\n",
    "        else:\n",
    "            pass\n",
    "\n",
    "max_values = pd.DataFrame(data=raw_analysis,columns=['Sample', 'Max_Wavelength', 'Max_Value', 'FWHM'])\n",
    "\n",
    "plt.style.use('default')\n",
    "\n",
    "plt.xlabel(\"Wavelength [nm]\", weight=\"semibold\")\n",
    "plt.ylabel(\"Counts\", weight=\"semibold\")\n",
    "# fig_ax.set_yticklabels([])\n",
    "plt.xlim(min(pl_data[\"etb046\"][\"1min\"][\"wavelength\"]), max(pl_data[\"etb046\"][\"1min\"][\"wavelength\"]))\n",
    "\n",
    "plt.title(\"MAPbI Film Formation PL\",weight=\"semibold\")\n",
    "plt.legend(loc='center left', bbox_to_anchor=(1.01, 0,.5,1),mode='expand', frameon=False)"
   ]
  },
  {
   "cell_type": "code",
   "execution_count": null,
   "metadata": {},
   "outputs": [],
   "source": [
    "fig.savefig(\"plots/190912/PL_all_stacked_norm.png\", dpi=200, format='png', bbox_inches='tight')"
   ]
  },
  {
   "cell_type": "code",
   "execution_count": null,
   "metadata": {},
   "outputs": [],
   "source": [
    "max_values.to_csv('plots/191031/mapbi.xlsx')"
   ]
  },
  {
   "cell_type": "markdown",
   "metadata": {},
   "source": [
    "## MAPbBr Data Import\n",
    "\n",
    "***\n",
    "\n",
    "### Data structure:\n",
    "\n",
    "uv_data\n",
    " - Run ID (etb0XX)\n",
    "     - Sample ID ('1min')\n",
    "          - wavelength\n",
    "          - counts\n",
    "\n",
    "***\n",
    "\n",
    "### Run -> Sample Correspondence\n",
    "|ETB-049|ETB-0XX|\n",
    "|---|---|\n",
    "|1min|Xmin|\n",
    "|2min|Xmin|\n",
    "|3min|Xmin|\n",
    "|5min|Xmin|\n",
    "|10min|Xmin|\n",
    "|30sec|Xmin|"
   ]
  },
  {
   "cell_type": "code",
   "execution_count": null,
   "metadata": {
    "jupyter": {
     "source_hidden": true
    }
   },
   "outputs": [],
   "source": [
    "# Identify the folder(s) where the raw, original data is\n",
    "# Use a list to store multiple directories that you want ready to plot\n",
    "pl_data = {}\n",
    "\n",
    "# MAPbBr Data Dict\n",
    "samples_dir = {\n",
    "    \"etb049\": \"190911 ETB-049 MAPbBr FF/\",\n",
    "    \"etb050\": \"191031 ETB-050 MAPbBr FF/\",\n",
    "    \"etb051\": \"191031 ETB-051 MAPbBr FF/\",\n",
    "}\n",
    "\n",
    "for run_ID in samples_dir:\n",
    "    pl_data[run_ID] = import_data.init(flag, samples_dir[run_ID])\n",
    "\n",
    "cypher_etb046 = (\n",
    "    \"30sec\",\n",
    "    \"1min\",\n",
    "    \"2min\",\n",
    "    \"3min\",\n",
    "    \"4min\",\n",
    "    \"5min\",\n",
    "    \"10min\",\n",
    "    \"15min\",\n",
    "    \"20min\",\n",
    "    \"40min\",\n",
    "    \"60min\",\n",
    "    \"80min\",\n",
    "    \"100min\",\n",
    "    \"120min\",\n",
    ")\n"
   ]
  },
  {
   "cell_type": "code",
   "execution_count": null,
   "metadata": {
    "jupyter": {
     "source_hidden": true
    }
   },
   "outputs": [],
   "source": [
    "importlib.reload(analysis)\n",
    "\n",
    "fig = plt.figure(1)\n",
    "fig_ax = plt.gca()\n",
    "\n",
    "master_cypher = (\n",
    "#     \"30sec\",\n",
    "#     \"1min\",\n",
    "    \"2min\",\n",
    "    \"3min\",\n",
    "    \"4min\",\n",
    "    \"5min\",\n",
    "    \"10min\",\n",
    "    \"20min1percent\",\n",
    "    \"60min\",\n",
    "    \"80min\",\n",
    "    \"100min\",\n",
    "    \"120min\",\n",
    ")\n",
    "\n",
    "raw_analysis = []\n",
    "\n",
    "for sample_ID in master_cypher:\n",
    "    for run_ID in samples_dir.keys():\n",
    "        if sample_ID in pl_data[run_ID].keys():\n",
    "            \n",
    "            raw_analysis.append(analysis.FWHM(flag, sample_ID, pl_data[run_ID][sample_ID]))\n",
    "            \n",
    "            plt.figure(1)\n",
    "            plt.plot(pl_data[run_ID][sample_ID][\"wavelength\"], pl_data[run_ID][sample_ID][\"counts\"]/\n",
    "                     pl_data[run_ID][sample_ID][\"counts\"].max(),\n",
    "                     label=sample_ID.replace(\"min\", \" min\"))\n",
    "        else:\n",
    "            pass\n",
    "        \n",
    "max_values = pd.DataFrame(data=raw_analysis,columns=['Sample', 'Max_Wavelength', 'Max_Value', 'FWHM'])\n",
    "        \n",
    "plt.style.use('default')\n",
    "\n",
    "plt.xlabel(\"Wavelength [nm]\", weight=\"semibold\")\n",
    "plt.ylabel(\"Counts\", weight=\"semibold\")\n",
    "# fig_ax.set_yticklabels([])\n",
    "plt.xlim(min(pl_data[\"etb049\"][\"1min\"][\"wavelength\"]), max(pl_data[\"etb049\"][\"1min\"][\"wavelength\"]))\n",
    "\n",
    "plt.title(\"MAPbBr Film Formation PL\",weight=\"semibold\")\n",
    "plt.legend(loc='center left', bbox_to_anchor=(1.01, 0,.5,1),mode='expand', frameon=False)\n",
    "\n",
    "plt.show()"
   ]
  },
  {
   "cell_type": "code",
   "execution_count": null,
   "metadata": {
    "jupyter": {
     "source_hidden": true
    }
   },
   "outputs": [],
   "source": [
    "fig.savefig(\"plots/191031/PL_all_stacked_norm.png\", dpi=200, format='png', bbox_inches='tight')"
   ]
  },
  {
   "cell_type": "code",
   "execution_count": null,
   "metadata": {
    "jupyter": {
     "source_hidden": true
    }
   },
   "outputs": [],
   "source": [
    "max_values.to_csv(\"./plots/191031/mapbbr.xlsx\")"
   ]
  },
  {
   "cell_type": "markdown",
   "metadata": {},
   "source": [
    "## MAPbI Growth Temperature Study"
   ]
  },
  {
   "cell_type": "code",
   "execution_count": 43,
   "metadata": {},
   "outputs": [
    {
     "name": "stdin",
     "output_type": "stream",
     "text": [
      "\n",
      "Sample data already in local memory, do you wish to wipe and pull from the master Box directory? y/n\n",
      " y\n",
      "\n",
      "Sample data already in local memory, do you wish to wipe and pull from the master Box directory? y/n\n",
      " y\n",
      "\n",
      "Sample data already in local memory, do you wish to wipe and pull from the master Box directory? y/n\n",
      " y\n"
     ]
    }
   ],
   "source": [
    "# Identify the folder(s) where the raw, original data is\n",
    "# Use a list to store multiple directories that you want ready to plot\n",
    "pl_data = {}\n",
    "# ETB-046 Variables\n",
    "samples_dir = {\n",
    "    \"etb046\": \"190904 ETB-046 MAPbI FF/\",\n",
    "    \"etb048\": \"190904 ETB-048 MAPbI FF/\",\n",
    "#     \"etb052\": \"191115 ETB-052 MAPbI on glass FF Growth Temp/\",\n",
    "#     \"etb054\": \"191115 ETB-054 MAPbI on glass FF Growth Temp/\",\n",
    "    \"etb056\": \"191115 ETB-056 MAPbI on glass FF Growth Temp/\",\n",
    "}\n",
    "\n",
    "for run_ID in samples_dir:\n",
    "    pl_data[run_ID] = import_data.init(flag, samples_dir[run_ID])\n",
    "\n",
    "cypher_etb046 = (\n",
    "    \"30sec\",\n",
    "    \"1min\",\n",
    "    \"1min_1\",\n",
    "    \"2min\",\n",
    "    \"3min\",\n",
    "    \"3min_1\",\n",
    "    \"5min\",\n",
    "    \"20min\",\n",
    ")\n",
    "\n",
    "cypher_etb047 = (\n",
    "    \"10min-1\",\n",
    "    \"40min-1\",\n",
    "    \"60min\",\n",
    "    \"60min-1\",\n",
    "    \"60min-point1\",\n",
    "    \"80min-1\",\n",
    "    \"100min\",\n",
    "    \"100min-1percent\",\n",
    "    \"120min-1percent\",\n",
    "    \"120min-point1percent\",\n",
    "    \"120min-point1percent_1\",\n",
    ")\n",
    "\n",
    "cypher_etb048 = (\n",
    "    \"4min\",\n",
    "    \"15min\",\n",
    ")"
   ]
  },
  {
   "cell_type": "code",
   "execution_count": 44,
   "metadata": {},
   "outputs": [
    {
     "name": "stderr",
     "output_type": "stream",
     "text": [
      "/home/tomas/Documents/sciencetools_py/lib/analysis.py:14: FutureWarning: `item` has been deprecated and will be removed in a future version\n",
      "  while (input_df.iloc[current_index]['counts'].item() > (local_max['counts'] / 2)):\n",
      "/home/tomas/Documents/sciencetools_py/lib/analysis.py:22: FutureWarning: `item` has been deprecated and will be removed in a future version\n",
      "  while (input_df.iloc[current_index]['counts'].item() > (local_max['counts'] / 2)):\n",
      "/home/tomas/Documents/sciencetools_py/lib/analysis.py:27: FutureWarning: `item` has been deprecated and will be removed in a future version\n",
      "  fwhm = right_bound['wavelength'].item() - left_bound['wavelength'].item()\n",
      "/home/tomas/Documents/sciencetools_py/lib/analysis.py:31: FutureWarning: `item` has been deprecated and will be removed in a future version\n",
      "  max_location['wavelength'].item(),\n"
     ]
    },
    {
     "data": {
      "text/plain": [
       "<matplotlib.legend.Legend at 0x7fb93b3b7630>"
      ]
     },
     "execution_count": 44,
     "metadata": {},
     "output_type": "execute_result"
    },
    {
     "data": {
      "image/png": "[encoded data removed]",
      "text/plain": [
       "<Figure size 640x480 with 1 Axes>"
      ]
     },
     "metadata": {},
     "output_type": "display_data"
    }
   ],
   "source": [
    "fig = plt.figure(1)\n",
    "fig_ax = plt.gca()\n",
    "\n",
    "master_cypher = (\n",
    "#     \"30sec\",\n",
    "#     \"1min\",\n",
    "#     \"1min_1\",\n",
    "#     \"2min\",\n",
    "#     \"3min\",\n",
    "#     \"3min_1\",\n",
    "#     \"4min\",\n",
    "    \"5min\",\n",
    "#     \"10min-1\",\n",
    "#     \"15min\",\n",
    "#     \"20min\",\n",
    "#     \"40min-1\",\n",
    "#     \"60min\",\n",
    "#     \"60min-1\",\n",
    "#     \"60min-point1\",\n",
    "#     \"80min-1\",\n",
    "#     \"100min\",\n",
    "#     \"100min-1percent\",\n",
    "#     \"120min-1percent\",\n",
    "#     \"120min-point1percent\",\n",
    "#     \"120min-point1percent_1\",\n",
    "    \"50C\",\n",
    "    \"75C\",\n",
    "    \"100C\",\n",
    ")\n",
    "\n",
    "raw_analysis = []\n",
    "\n",
    "for sample_ID in master_cypher:\n",
    "    for run_ID in samples_dir.keys():\n",
    "        if sample_ID in pl_data[run_ID].keys():\n",
    "            raw_analysis.append(analysis.FWHM(flag, sample_ID, pl_data[run_ID][sample_ID]))\n",
    "\n",
    "            \n",
    "            plt.figure(1)\n",
    "            plt.plot(pl_data[run_ID][sample_ID][\"wavelength\"], pl_data[run_ID][sample_ID][\"counts\"]/\n",
    "                     abs(max(pl_data[run_ID][sample_ID][\"counts\"])),\n",
    "                     label=sample_ID.replace(\"min\", \" min\"))\n",
    "        else:\n",
    "            pass\n",
    "\n",
    "max_values = pd.DataFrame(data=raw_analysis,columns=['Sample', 'Max_Wavelength', 'Max_Value', 'FWHM'])\n",
    "\n",
    "plt.style.use('default')\n",
    "\n",
    "plt.xlabel(\"Wavelength [nm]\", weight=\"semibold\")\n",
    "plt.ylabel(\"Counts\", weight=\"semibold\")\n",
    "# fig_ax.set_yticklabels([])\n",
    "plt.xlim(min(pl_data[\"etb048\"][\"15min\"][\"wavelength\"]), max(pl_data[\"etb048\"][\"15min\"][\"wavelength\"]))\n",
    "\n",
    "plt.title(\"MAPbI 5 Minute Film Growth at Elevated Temp. PL\",weight=\"semibold\")\n",
    "plt.legend(loc='center left', bbox_to_anchor=(1.01, 0,.3,1),mode='expand', frameon=False)"
   ]
  },
  {
   "cell_type": "code",
   "execution_count": 45,
   "metadata": {},
   "outputs": [],
   "source": [
    "fig.savefig(\"plots/191121/MAPbI_PL/5min_all_stacked_norm.png\", dpi=200, format='png', bbox_inches='tight')"
   ]
  },
  {
   "cell_type": "code",
   "execution_count": 46,
   "metadata": {},
   "outputs": [],
   "source": [
    "max_values.to_csv('plots/191121/mapbi_5min.xlsx')"
   ]
  },
  {
   "cell_type": "markdown",
   "metadata": {},
   "source": [
    "## MAPbBr Growth Temperature Study"
   ]
  },
  {
   "cell_type": "code",
   "execution_count": 59,
   "metadata": {},
   "outputs": [
    {
     "name": "stdin",
     "output_type": "stream",
     "text": [
      "\n",
      "Sample data already in local memory, do you wish to wipe and pull from the master Box directory? y/n\n",
      " y\n",
      "\n",
      "Sample data already in local memory, do you wish to wipe and pull from the master Box directory? y/n\n",
      " y\n",
      "\n",
      "Sample data already in local memory, do you wish to wipe and pull from the master Box directory? y/n\n",
      " y\n"
     ]
    }
   ],
   "source": [
    "# Identify the folder(s) where the raw, original data is\n",
    "# Use a list to store multiple directories that you want ready to plot\n",
    "pl_data = {}\n",
    "# ETB-046 Variables\n",
    "samples_dir = {\n",
    "    \"etb050\": \"191031 ETB-050 MAPbBr FF/\",\n",
    "    \"etb049\": \"190911 ETB-049 MAPbBr FF/\",\n",
    "#     \"etb053\": \"191115 ETB-053 MAPbBr on glass FF growth temp/\",\n",
    "    \"etb055\": \"191115 ETB-055 MAPbBr on glass FF growth temp/\",\n",
    "#     \"etb057\": \"/\",\n",
    "}\n",
    "\n",
    "for run_ID in samples_dir:\n",
    "    pl_data[run_ID] = import_data.init(flag, samples_dir[run_ID])\n",
    "\n",
    "cypher_etb046 = (\n",
    "    \"30sec\",\n",
    "    \"1min\",\n",
    "    \"1min_1\",\n",
    "    \"2min\",\n",
    "    \"3min\",\n",
    "    \"3min_1\",\n",
    "    \"5min\",\n",
    "    \"20min\",\n",
    ")\n",
    "\n",
    "cypher_etb047 = (\n",
    "    \"10min-1\",\n",
    "    \"40min-1\",\n",
    "    \"60min\",\n",
    "    \"60min-1\",\n",
    "    \"60min-point1\",\n",
    "    \"80min-1\",\n",
    "    \"100min\",\n",
    "    \"100min-1percent\",\n",
    "    \"120min-1percent\",\n",
    "    \"120min-point1percent\",\n",
    "    \"120min-point1percent_1\",\n",
    ")\n",
    "\n",
    "cypher_etb048 = (\n",
    "    \"4min\",\n",
    "    \"15min\",\n",
    ")"
   ]
  },
  {
   "cell_type": "code",
   "execution_count": 61,
   "metadata": {},
   "outputs": [
    {
     "name": "stderr",
     "output_type": "stream",
     "text": [
      "/home/tomas/Documents/sciencetools_py/lib/analysis.py:14: FutureWarning: `item` has been deprecated and will be removed in a future version\n",
      "  while (input_df.iloc[current_index]['counts'].item() > (local_max['counts'] / 2)):\n",
      "/home/tomas/Documents/sciencetools_py/lib/analysis.py:22: FutureWarning: `item` has been deprecated and will be removed in a future version\n",
      "  while (input_df.iloc[current_index]['counts'].item() > (local_max['counts'] / 2)):\n",
      "/home/tomas/Documents/sciencetools_py/lib/analysis.py:27: FutureWarning: `item` has been deprecated and will be removed in a future version\n",
      "  fwhm = right_bound['wavelength'].item() - left_bound['wavelength'].item()\n",
      "/home/tomas/Documents/sciencetools_py/lib/analysis.py:31: FutureWarning: `item` has been deprecated and will be removed in a future version\n",
      "  max_location['wavelength'].item(),\n"
     ]
    },
    {
     "data": {
      "text/plain": [
       "<matplotlib.legend.Legend at 0x7fb93829c630>"
      ]
     },
     "execution_count": 61,
     "metadata": {},
     "output_type": "execute_result"
    },
    {
     "data": {
      "image/png": "[encoded data removed]",
      "text/plain": [
       "<Figure size 640x480 with 1 Axes>"
      ]
     },
     "metadata": {},
     "output_type": "display_data"
    }
   ],
   "source": [
    "fig = plt.figure(1)\n",
    "fig_ax = plt.gca()\n",
    "\n",
    "master_cypher = (\n",
    "#     \"30sec\",\n",
    "#     \"1min\",\n",
    "#     \"1min_1\",\n",
    "#     \"2min\",\n",
    "#     \"3min\",\n",
    "#     \"3min_1\",\n",
    "#     \"4min\",\n",
    "    \"5min\",\n",
    "#     \"10min-1\",\n",
    "#     \"15min\",\n",
    "#     \"20min\",\n",
    "#     \"40min-1\",\n",
    "#     \"60min\",\n",
    "#     \"60min-1\",\n",
    "#     \"60min-point1\",\n",
    "#     \"80min-1\",\n",
    "#     \"100min\",\n",
    "#     \"100min-1percent\",\n",
    "#     \"120min-1percent\",\n",
    "#     \"120min-point1percent\",\n",
    "#     \"120min-point1percent_1\",\n",
    "    \"50C\",\n",
    "    \"75C\",\n",
    "    \"100C\",\n",
    ")\n",
    "\n",
    "raw_analysis = []\n",
    "\n",
    "for sample_ID in master_cypher:\n",
    "    for run_ID in samples_dir.keys():\n",
    "        if sample_ID in pl_data[run_ID].keys():\n",
    "            raw_analysis.append(analysis.FWHM(flag, sample_ID, pl_data[run_ID][sample_ID]))\n",
    "\n",
    "            \n",
    "            plt.figure(1)\n",
    "            plt.plot(pl_data[run_ID][sample_ID][\"wavelength\"], pl_data[run_ID][sample_ID][\"counts\"]/\n",
    "                     abs(max(pl_data[run_ID][sample_ID][\"counts\"])),\n",
    "                     label=sample_ID.replace(\"min\", \" min\"))\n",
    "        else:\n",
    "            pass\n",
    "\n",
    "max_values = pd.DataFrame(data=raw_analysis,columns=['Sample', 'Max_Wavelength', 'Max_Value', 'FWHM'])\n",
    "\n",
    "plt.style.use('default')\n",
    "\n",
    "plt.xlabel(\"Wavelength [nm]\", weight=\"semibold\")\n",
    "plt.ylabel(\"Counts\", weight=\"semibold\")\n",
    "# fig_ax.set_yticklabels([])\n",
    "plt.xlim(min(pl_data[\"etb050\"][\"15min\"][\"wavelength\"]), max(pl_data[\"etb050\"][\"15min\"][\"wavelength\"]))\n",
    "\n",
    "plt.title(\"MAPbBr 1 Minute Film Growth at Elevated Temp. PL\",weight=\"semibold\")\n",
    "plt.legend(loc='center left', bbox_to_anchor=(1.01, 0,.3,1),mode='expand', frameon=False)"
   ]
  },
  {
   "cell_type": "code",
   "execution_count": 62,
   "metadata": {},
   "outputs": [],
   "source": [
    "fig.savefig(\"plots/191121/MAPbBr_PL/1min_all_stacked_norm.png\", dpi=200, format='png', bbox_inches='tight')"
   ]
  },
  {
   "cell_type": "code",
   "execution_count": 63,
   "metadata": {},
   "outputs": [],
   "source": [
    "max_values.to_csv('plots/191121/mapbbr_1min.xlsx')"
   ]
  }
 ],
 "metadata": {
  "kernelspec": {
   "display_name": "Python 3",
   "language": "python",
   "name": "python3"
  },
  "language_info": {
   "codemirror_mode": {
    "name": "ipython",
    "version": 3
   },
   "file_extension": ".py",
   "mimetype": "text/x-python",
   "name": "python",
   "nbconvert_exporter": "python",
   "pygments_lexer": "ipython3",
   "version": "3.7.3"
  }
 },
 "nbformat": 4,
 "nbformat_minor": 4
}
