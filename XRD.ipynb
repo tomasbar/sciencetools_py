{
 "cells": [
  {
   "cell_type": "markdown",
   "metadata": {},
   "source": [
    "# Setup\n",
    "### Imports, wipe working directories, reload .py scripts"
   ]
  },
  {
   "cell_type": "code",
   "execution_count": null,
   "metadata": {
    "jupyter": {
     "source_hidden": true
    }
   },
   "outputs": [],
   "source": [
    "%reset"
   ]
  },
  {
   "cell_type": "code",
   "execution_count": null,
   "metadata": {
    "jupyter": {
     "source_hidden": true
    }
   },
   "outputs": [],
   "source": [
    "import matplotlib\n",
    "import matplotlib.pyplot as plt\n",
    "import pandas as pd\n",
    "import numpy as np\n",
    "import importlib, os\n",
    "\n",
    "from lib import path_tools as pt\n",
    "from lib import import_data"
   ]
  },
  {
   "cell_type": "code",
   "execution_count": null,
   "metadata": {
    "jupyter": {
     "source_hidden": true
    }
   },
   "outputs": [],
   "source": [
    "pt.wipe_scrap()\n",
    "\n",
    "# Set the technique we're working with today\n",
    "# Valid values: 'xrd', 'pl', 'uvvis'\n",
    "flag = \"xrd\""
   ]
  },
  {
   "cell_type": "code",
   "execution_count": null,
   "metadata": {
    "jupyter": {
     "source_hidden": true
    }
   },
   "outputs": [],
   "source": [
    "importlib.reload(import_data)"
   ]
  },
  {
   "cell_type": "markdown",
   "metadata": {},
   "source": [
    "## MAPbI Data Import\n",
    "\n",
    "***\n",
    "\n",
    "### Data structure:\n",
    "\n",
    "uv_data\n",
    " - Run ID (etb0XX)\n",
    "     - Sample ID ('1min')\n",
    "          - wavelength\n",
    "          - counts\n",
    "\n",
    "***\n",
    "\n",
    "### Run -> Sample Correspondence\n",
    "|ETB-043|ETB-044|\n",
    "|---|---|\n",
    "|20min|1min|\n",
    "|40min|2min|\n",
    "|60min|5min|\n",
    "|80min|10min|\n",
    "|100min|15min|\n",
    "|120min|20min|"
   ]
  },
  {
   "cell_type": "code",
   "execution_count": null,
   "metadata": {
    "jupyter": {
     "source_hidden": true
    }
   },
   "outputs": [],
   "source": [
    "# Identify the folder(s) where the raw, original data is\n",
    "# Use a list to store multiple directories that you want ready to plot\n",
    "XRD_data = {}\n",
    "\n",
    "# ETB-046 Variables\n",
    "samples_dir = {\n",
    "    \"etb046\": \"190722 ETB-046 MAPbI on glass FF/\",\n",
    "    \"etb047\": \"190903 ETB-047 MAPbI on glass FF/\",\n",
    "    \"etb048\": \"190904 ETB-048 MAPbI on glass FF/\",\n",
    "}\n",
    "\n",
    "for run_ID in samples_dir.keys():\n",
    "    XRD_data[run_ID] = import_data.init(flag, samples_dir[run_ID])\n",
    "    \n",
    "cypher_etb046 = (\n",
    "    \"30sec\",\n",
    "    \"1min\",\n",
    "    \"2min\",\n",
    "    \"3min\",\n",
    "    \"5min\",\n",
    "    \"20min\",\n",
    ")\n",
    "\n",
    "cypher_etb047 = (\n",
    "    \"10min\",\n",
    "    \"40min\",\n",
    "    \"60min\",\n",
    "    \"80min\",\n",
    "    \"100min\",\n",
    "    \"120min\",\n",
    ")\n",
    "\n",
    "cypher_etb048 = (\n",
    "    \"4min\",\n",
    "    \"15min\",\n",
    ")"
   ]
  },
  {
   "cell_type": "code",
   "execution_count": null,
   "metadata": {
    "jupyter": {
     "source_hidden": true
    }
   },
   "outputs": [],
   "source": [
    "fig = plt.figure(1, figsize=[6.4, 6])\n",
    "fig_ax = plt.gca()\n",
    "\n",
    "offset = 0\n",
    "master_cypher = (\n",
    "    \"30sec\",\n",
    "    \"1min\",\n",
    "    \"2min\",\n",
    "    \"3min\",\n",
    "    \"4min\",\n",
    "    \"5min\",\n",
    "    \"10min\",\n",
    "    \"15min\",\n",
    "    \"20min\",\n",
    "    \"40min\",\n",
    "    \"60min\",\n",
    "    \"80min\",\n",
    "    \"100min\",\n",
    "    \"120min\",\n",
    ")\n",
    "\n",
    "for sample_ID in master_cypher:\n",
    "    for run_ID in samples_dir.keys():\n",
    "        if sample_ID in XRD_data[run_ID].keys():\n",
    "            samplemax = max(np.log10(XRD_data[run_ID][sample_ID][\"counts\"]))\n",
    "                \n",
    "            plt.figure(1)\n",
    "            plt.plot(XRD_data[run_ID][sample_ID][\"2theta\"], np.log10(XRD_data[run_ID][sample_ID][\"counts\"]) + offset,\n",
    "                     label=sample_ID.replace(\"min\", \" min\"))\n",
    "            \n",
    "            offset += samplemax\n",
    "            \n",
    "plt.style.use('default')\n",
    "\n",
    "plt.xlabel(\"2θ [degrees]\", weight=\"semibold\")\n",
    "plt.ylabel(\"Counts\", weight=\"semibold\")\n",
    "fig_ax.set_yticklabels([])\n",
    "plt.xlim(min(XRD_data[\"etb046\"][\"1min\"][\"2theta\"]), max(XRD_data[\"etb046\"][\"1min\"][\"2theta\"]))\n",
    "\n",
    "plt.title(\"MAPbI Film Formation XRD\",weight=\"semibold\")\n",
    "plt.legend(loc='center left', bbox_to_anchor=(1.01, 0,.22,1),mode='expand', frameon=False)"
   ]
  },
  {
   "cell_type": "code",
   "execution_count": null,
   "metadata": {
    "jupyter": {
     "source_hidden": true
    }
   },
   "outputs": [],
   "source": [
    "fig.savefig(\"plots/190912/all_stacked_log.png\", dpi=200, format='png', bbox_inches='tight')"
   ]
  },
  {
   "cell_type": "code",
   "execution_count": null,
   "metadata": {
    "jupyter": {
     "source_hidden": true
    }
   },
   "outputs": [],
   "source": [
    "fig2 = plt.figure(2)\n",
    "fig2_ax = plt.gca()\n",
    "\n",
    "offset = 0\n",
    "\n",
    "for sample_ID in master_cypher:\n",
    "    for run_ID in samples_dir.keys():\n",
    "        if sample_ID in XRD_data[run_ID].keys():\n",
    "            samplemax = max(XRD_data[run_ID][sample_ID][\"counts\"])\n",
    "                \n",
    "            plt.figure(2)\n",
    "            plt.plot(XRD_data[run_ID][sample_ID][\"2theta\"], XRD_data[run_ID][sample_ID][\"counts\"] + offset,\n",
    "                     label=sample_ID.replace(\"min\", \" min\"))\n",
    "            \n",
    "#             offset += max(np.log10(XRD_data[run_ID][sample_ID][\"counts\"]))\n",
    "#           offset += samplemax\n",
    "            \n",
    "\n",
    "plt.style.use('default')\n",
    "\n",
    "plt.xlabel(\"2θ [degrees]\", weight=\"semibold\")\n",
    "plt.ylabel(\"Counts\", weight=\"semibold\")\n",
    "plt.xlim(11, 15)\n",
    "\n",
    "fig2_ax.set_yticklabels([])\n",
    "\n",
    "plt.title(\"MAPbI Film Formation XRD - PbI2 and MAPbI Peaks\",weight=\"semibold\")\n",
    "plt.legend(loc='center left', bbox_to_anchor=(1.01, 0,.22,1),mode='expand', frameon=False)"
   ]
  },
  {
   "cell_type": "code",
   "execution_count": null,
   "metadata": {
    "jupyter": {
     "source_hidden": true
    }
   },
   "outputs": [],
   "source": [
    "fig2.savefig(\"plots/190912/all_zoom_11_15.png\", dpi=200, format='png', bbox_inches='tight')"
   ]
  },
  {
   "cell_type": "code",
   "execution_count": null,
   "metadata": {
    "jupyter": {
     "source_hidden": true
    }
   },
   "outputs": [],
   "source": [
    "fig3 = plt.figure(3)\n",
    "fig3_ax = plt.gca()\n",
    "\n",
    "offset = 0\n",
    "master_cypher = (\n",
    "    \"20min\",\n",
    "    \"40min\",\n",
    "    \"60min\",\n",
    "    \"80min\",\n",
    "    \"100min\",\n",
    "    \"120min\",\n",
    ")\n",
    "\n",
    "for sample_ID in master_cypher:\n",
    "    for run_ID in samples_dir.keys():\n",
    "        if sample_ID in XRD_data[run_ID].keys():\n",
    "            samplemax = max(np.log10(XRD_data[run_ID][sample_ID][\"counts\"]))\n",
    "                \n",
    "            plt.figure(3)\n",
    "            plt.plot(XRD_data[run_ID][sample_ID][\"2theta\"], np.log10(XRD_data[run_ID][sample_ID][\"counts\"]) + offset,\n",
    "                     label=sample_ID.replace(\"min\", \" min\"))\n",
    "            \n",
    "#           offset += max(np.log10(XRD_data[run_ID][sample_ID][\"counts\"]))\n",
    "#             offset += samplemax\n",
    "            \n",
    "\n",
    "plt.style.use('default')\n",
    "\n",
    "plt.xlabel(\"2θ [degrees]\", weight=\"semibold\")\n",
    "plt.ylabel(\"Counts\", weight=\"semibold\")\n",
    "plt.xlim(3, 8)\n",
    "\n",
    "fig3_ax.set_yticklabels([])\n",
    "\n",
    "plt.title(\"MAPbI Film Formation XRD - Precursor Peaks\",weight=\"semibold\")\n",
    "plt.legend(loc='center left', bbox_to_anchor=(1.01, 0,.22,1),mode='expand', frameon=False)"
   ]
  },
  {
   "cell_type": "code",
   "execution_count": null,
   "metadata": {
    "jupyter": {
     "source_hidden": true
    }
   },
   "outputs": [],
   "source": [
    "fig3.savefig(\"plots/190915/precursor_log.png\", dpi=200, format='png', bbox_inches='tight')"
   ]
  },
  {
   "cell_type": "markdown",
   "metadata": {},
   "source": [
    "# EDBE"
   ]
  },
  {
   "cell_type": "code",
   "execution_count": null,
   "metadata": {
    "jupyter": {
     "source_hidden": true
    }
   },
   "outputs": [],
   "source": [
    "# Identify the folder(s) where the raw, original data is\n",
    "# Use a dict to store multiple directories that you want ready to plot\n",
    "XRD_data = {}\n",
    "\n",
    "# EDBE Variables\n",
    "samples_dir = {\n",
    "    \"etb043\": \"190710 ETB-043 EDBE-PbBr on glass FF/\",\n",
    "    \"etb044\": \"190716 ETB-044 EDBE-PbBr on glass FF/\",\n",
    "    \"etb045\": \"190719 ETB-045 EDBE-PbBr on glass FF/\",\n",
    "}\n",
    "\n",
    "for run_ID in samples_dir.keys():\n",
    "    XRD_data[run_ID] = import_data.init(flag, samples_dir[run_ID])\n",
    "    \n",
    "cypher_etb043 = (\n",
    "    \"20min\",\n",
    "    \"40min\",\n",
    "    \"60min\",\n",
    "    \"80min\",\n",
    "    \"100min\",\n",
    "    \"120min\",\n",
    ")\n",
    "\n",
    "cypher_etb044 = (\n",
    "    \"1min\",\n",
    "    \"2min\",\n",
    "    \"5min\",\n",
    "    \"10min\",\n",
    "    \"15min\",\n",
    "    \"20min\",\n",
    ")\n",
    "\n",
    "cypher_etb045 = (\n",
    "    \"30sec\",\n",
    "    \"2min\",\n",
    "    \"3min\",\n",
    "    \"4min\",\n",
    "    \"5min\",\n",
    "    \"20min\",\n",
    ")"
   ]
  },
  {
   "cell_type": "code",
   "execution_count": null,
   "metadata": {
    "jupyter": {
     "source_hidden": true
    }
   },
   "outputs": [],
   "source": [
    "fig = plt.figure(1, figsize=[6.4, 6])\n",
    "fig_ax = plt.gca()\n",
    "\n",
    "plotted = None\n",
    "offset = 0\n",
    "master_cypher = (\n",
    "    \"30sec\",\n",
    "    \"1min\",\n",
    "    \"2min\",\n",
    "    \"3min\",\n",
    "    \"4min\",\n",
    "    \"5min\",\n",
    "    \"10min\",\n",
    "    \"15min\",\n",
    "    \"20min\",\n",
    "    \"40min\",\n",
    "    \"60min\",\n",
    "    \"80min\",\n",
    "    \"100min\",\n",
    "    \"120min\",\n",
    ")\n",
    "\n",
    "for sample_ID in master_cypher:\n",
    "    \n",
    "    for run_ID in samples_dir.keys():\n",
    "        if sample_ID in XRD_data[run_ID].keys() and plotted != True:\n",
    "            samplemax = max(np.log10(XRD_data[run_ID][sample_ID][\"counts\"]))\n",
    "                \n",
    "            plt.figure(1)\n",
    "            plt.plot(XRD_data[run_ID][sample_ID][\"2theta\"], np.log10(XRD_data[run_ID][sample_ID][\"counts\"]) + offset,\n",
    "                     label=sample_ID.replace(\"min\", \" min\"))\n",
    "            \n",
    "            offset += samplemax\n",
    "            \n",
    "            plotted = True\n",
    "            \n",
    "    plotted = None\n",
    "    \n",
    "plt.style.use('default')\n",
    "\n",
    "plt.xlabel(\"2θ [degrees]\", weight=\"semibold\")\n",
    "plt.ylabel(\"Counts\", weight=\"semibold\")\n",
    "fig_ax.set_yticklabels([])\n",
    "plt.xlim(min(XRD_data[\"etb043\"][\"20min\"][\"2theta\"]), max(XRD_data[\"etb043\"][\"20min\"][\"2theta\"]))\n",
    "\n",
    "plt.title(\"EDBEPbBr Film Formation XRD\",weight=\"semibold\")\n",
    "plt.legend(loc='center left', bbox_to_anchor=(1.01, 0,.22,1),mode='expand', frameon=False)"
   ]
  },
  {
   "cell_type": "code",
   "execution_count": null,
   "metadata": {
    "jupyter": {
     "source_hidden": true
    }
   },
   "outputs": [],
   "source": [
    "fig.savefig(\"plots/190915/edbe_all_log.png\", dpi=200, format='png', bbox_inches='tight')"
   ]
  },
  {
   "cell_type": "markdown",
   "metadata": {},
   "source": [
    "## MAPbBr Data Import\n",
    "\n",
    "***\n",
    "### Run -> Sample Correspondence\n",
    "|ETB-049|ETB-0XX|\n",
    "|---|---|\n",
    "|1min|Xmin|\n",
    "|2min|Xmin|\n",
    "|3min|Xmin|\n",
    "|5min|Xmin|\n",
    "|10min|Xmin|\n",
    "|30sec|Xmin|"
   ]
  },
  {
   "cell_type": "code",
   "execution_count": null,
   "metadata": {
    "jupyter": {
     "source_hidden": true
    }
   },
   "outputs": [],
   "source": [
    "# Identify the folder(s) where the raw, original data is\n",
    "# Use a list to store multiple directories that you want ready to plot\n",
    "XRD_data = {}\n",
    "\n",
    "# ETB-046 Variables\n",
    "samples_dir = {\n",
    "    \"etb049\": \"190911 ETB-049 MAPbBr on glass FF/\",\n",
    "    \"etb050\": \"191029 ETB-050 MAPbBr on glass FF/\",\n",
    "    \"etb051\": \"191030 ETB-051 MAPbBr on glass FF/\",\n",
    "}\n",
    "\n",
    "for run_ID in samples_dir.keys():\n",
    "    XRD_data[run_ID] = import_data.init(flag, samples_dir[run_ID])\n",
    "    \n",
    "cypher_etb049 = (\n",
    "    \"30sec\",\n",
    "    \"1min\",\n",
    "    \"2min\",\n",
    "    \"3min\",\n",
    "    \"4min\",\n",
    "    \"5min\",\n",
    "    \"10min\",\n",
    "    \"15min\",\n",
    "    \"20min\",\n",
    "    \"40min\",\n",
    "    \"60min\",\n",
    "    \"80min\",\n",
    "    \"100min\",\n",
    "    \"120min\",\n",
    ")"
   ]
  },
  {
   "cell_type": "code",
   "execution_count": null,
   "metadata": {
    "jupyter": {
     "source_hidden": true
    }
   },
   "outputs": [],
   "source": [
    "fig = plt.figure(1, figsize=[6.4, 6])\n",
    "fig_ax = plt.gca()\n",
    "\n",
    "offset = 0\n",
    "master_cypher = (\n",
    "    \"30sec\",\n",
    "    \"1min\",\n",
    "    \"2min\",\n",
    "    \"3min\",\n",
    "    \"4min\",\n",
    "    \"5min\",\n",
    "    \"10min\",\n",
    "    \"15min\",\n",
    "    \"20min\",\n",
    "    \"40min\",\n",
    "    \"60min\",\n",
    "    \"80min\",\n",
    "    \"100min\",\n",
    "    \"120min\",\n",
    ")\n",
    "\n",
    "for sample_ID in master_cypher:\n",
    "    for run_ID in samples_dir.keys():\n",
    "        if sample_ID in XRD_data[run_ID].keys():\n",
    "            samplemax = max(np.log10(XRD_data[run_ID][sample_ID][\"counts\"]))\n",
    "                \n",
    "            plt.figure(1)\n",
    "            plt.plot(XRD_data[run_ID][sample_ID][\"2theta\"], np.log10(XRD_data[run_ID][sample_ID][\"counts\"]) + offset,\n",
    "                     label=sample_ID.replace(\"min\", \" min\"))\n",
    "            \n",
    "            offset += samplemax\n",
    "            \n",
    "plt.style.use('default')\n",
    "\n",
    "plt.xlabel(\"2θ [degrees]\", weight=\"semibold\")\n",
    "plt.ylabel(\"Counts\", weight=\"semibold\")\n",
    "fig_ax.set_yticklabels([])\n",
    "plt.xlim(min(XRD_data[\"etb049\"][\"1min\"][\"2theta\"]), max(XRD_data[\"etb049\"][\"1min\"][\"2theta\"]))\n",
    "\n",
    "plt.title(\"MAPbBr Film Formation XRD\",weight=\"semibold\")\n",
    "plt.legend(loc='center left', bbox_to_anchor=(1.01, 0,.22,1),mode='expand', frameon=False)"
   ]
  },
  {
   "cell_type": "code",
   "execution_count": null,
   "metadata": {
    "jupyter": {
     "source_hidden": true
    }
   },
   "outputs": [],
   "source": [
    "fig.savefig(\"plots/191031/XRD_all_stacked_log.png\", dpi=200, format='png', bbox_inches='tight')"
   ]
  },
  {
   "cell_type": "code",
   "execution_count": null,
   "metadata": {
    "jupyter": {
     "source_hidden": true
    }
   },
   "outputs": [],
   "source": [
    "fig2 = plt.figure(2)\n",
    "fig2_ax = plt.gca()\n",
    "\n",
    "offset = 0\n",
    "\n",
    "for sample_ID in master_cypher:\n",
    "    for run_ID in samples_dir.keys():\n",
    "        if sample_ID in XRD_data[run_ID].keys():\n",
    "            samplemax = max(XRD_data[run_ID][sample_ID][\"counts\"])\n",
    "                \n",
    "            plt.figure(2)\n",
    "            plt.plot(XRD_data[run_ID][sample_ID][\"2theta\"], np.log10(XRD_data[run_ID][sample_ID][\"counts\"]) + offset,\n",
    "                     label=sample_ID.replace(\"min\", \" min\"))\n",
    "          \n",
    "plt.style.use('default')\n",
    "\n",
    "plt.xlabel(\"2θ [degrees]\", weight=\"semibold\")\n",
    "plt.ylabel(\"Counts\", weight=\"semibold\")\n",
    "plt.xlim(12, 17)\n",
    "\n",
    "fig2_ax.set_yticklabels([])\n",
    "\n",
    "plt.title(\"MAPbBr Film Formation XRD - PbBr2 and MAPbBr Peaks\",weight=\"semibold\")\n",
    "plt.legend(loc='center left', bbox_to_anchor=(1.01, 0,.22,1),mode='expand', frameon=False)"
   ]
  },
  {
   "cell_type": "code",
   "execution_count": null,
   "metadata": {
    "jupyter": {
     "source_hidden": true
    }
   },
   "outputs": [],
   "source": [
    "fig2.savefig(\"plots/191031/XRD_all_zoom_12_17.png\", dpi=200, format='png', bbox_inches='tight')"
   ]
  },
  {
   "cell_type": "code",
   "execution_count": null,
   "metadata": {
    "jupyter": {
     "source_hidden": true
    }
   },
   "outputs": [],
   "source": [
    "fig3 = plt.figure(3)\n",
    "fig3_ax = plt.gca()\n",
    "\n",
    "offset = 0\n",
    "\n",
    "for sample_ID in master_cypher:\n",
    "    for run_ID in samples_dir.keys():\n",
    "        if sample_ID in XRD_data[run_ID].keys():\n",
    "            samplemax = max(np.log10(XRD_data[run_ID][sample_ID][\"counts\"]))\n",
    "                \n",
    "            plt.figure(3)\n",
    "            plt.plot(XRD_data[run_ID][sample_ID][\"2theta\"], np.log10(XRD_data[run_ID][sample_ID][\"counts\"]) + offset,\n",
    "                     label=sample_ID.replace(\"min\", \" min\"))\n",
    "            \n",
    "#           offset += max(np.log10(XRD_data[run_ID][sample_ID][\"counts\"]))\n",
    "#             offset += samplemax\n",
    "            \n",
    "\n",
    "plt.style.use('default')\n",
    "\n",
    "plt.xlabel(\"2θ [degrees]\", weight=\"semibold\")\n",
    "plt.ylabel(\"Counts\", weight=\"semibold\")\n",
    "plt.xlim(3, 8)\n",
    "\n",
    "fig3_ax.set_yticklabels([])\n",
    "\n",
    "plt.title(\"MAPbBr Film Formation XRD - Precursor Peaks\",weight=\"semibold\")\n",
    "plt.legend(loc='center left', bbox_to_anchor=(1.01, 0,.22,1),mode='expand', frameon=False)"
   ]
  },
  {
   "cell_type": "code",
   "execution_count": null,
   "metadata": {
    "jupyter": {
     "source_hidden": true
    }
   },
   "outputs": [],
   "source": [
    "fig3.savefig(\"plots/190915/precursor_log.png\", dpi=200, format='png', bbox_inches='tight')"
   ]
  },
  {
   "cell_type": "markdown",
   "metadata": {},
   "source": [
    "# MAPbI Growth Temperature Study "
   ]
  },
  {
   "cell_type": "code",
   "execution_count": null,
   "metadata": {
    "jupyter": {
     "source_hidden": true
    }
   },
   "outputs": [],
   "source": [
    "# Identify the folder(s) where the raw, original data is\n",
    "# Use a list to store multiple directories that you want ready to plot\n",
    "XRD_data = {}\n",
    "\n",
    "# ETB-046 Variables\n",
    "samples_dir = {\n",
    "    \"etb046\": \"190722 ETB-046 MAPbI on glass FF/\",\n",
    "    \"etb048\": \"190904 ETB-048 MAPbI on glass FF/\",\n",
    "    \"etb052\": \"191107 ETB-052 MAPbI on glass FF Growth Temp/\",\n",
    "    \"etb054\": \"191111 ETB-054 MAPbI on glass FF growth temp/\",\n",
    "    \"etb056\": \"191114 ETB-056 MAPbI on glass FF growth temp/\",\n",
    "}\n",
    "\n",
    "for run_ID in samples_dir.keys():\n",
    "    XRD_data[run_ID] = import_data.init(flag, samples_dir[run_ID])\n",
    "    \n",
    "cypher_etb049 = (\n",
    "    \"30sec\",\n",
    "    \"1min\",\n",
    "    \"2min\",\n",
    "    \"3min\",\n",
    "    \"4min\",\n",
    "    \"5min\",\n",
    "    \"10min\",\n",
    "    \"15min\",\n",
    "    \"20min\",\n",
    "    \"40min\",\n",
    "    \"60min\",\n",
    "    \"80min\",\n",
    "    \"100min\",\n",
    "    \"120min\",\n",
    "    \"15min 50C\",\n",
    "    \"15min 75C\",\n",
    "    \"15min 100C\",\n",
    "    \"1min 50C\",\n",
    "    \"1min 75C\",\n",
    "    \"1min 100C\",\n",
    "    \"glassref\",\n",
    "\n",
    ")"
   ]
  },
  {
   "cell_type": "code",
   "execution_count": null,
   "metadata": {
    "jupyter": {
     "source_hidden": true
    }
   },
   "outputs": [],
   "source": [
    "fig = plt.figure(1, figsize=[6.4, 6])\n",
    "fig_ax = plt.gca()\n",
    "\n",
    "offset = 0\n",
    "master_cypher = (\n",
    "#     \"30sec\",\n",
    "#     \"1min\",\n",
    "#     \"2min\",\n",
    "#     \"3min\",\n",
    "#     \"4min\",\n",
    "    \"5min\",\n",
    "#     \"10min\",\n",
    "#     \"15min\",\n",
    "#     \"20min\",\n",
    "#     \"40min\",\n",
    "#     \"60min\",\n",
    "#     \"80min\",\n",
    "#     \"100min\",\n",
    "#     \"120min\",\n",
    "#     \"15min 50C\",\n",
    "#     \"15min 75C\",\n",
    "#     \"15min 100C\",\n",
    "#     \"1min 50C\",\n",
    "#     \"1min 75C\",\n",
    "#     \"1min 100C\",\n",
    "    \"5min 50C\",\n",
    "    \"5min 75C\",\n",
    "    \"5min 100C\",\n",
    "#     \"glassref\",\n",
    ")\n",
    "\n",
    "for sample_ID in master_cypher:\n",
    "    for run_ID in samples_dir.keys():\n",
    "        if sample_ID in XRD_data[run_ID].keys():\n",
    "            samplemax = max(np.log10(XRD_data[run_ID][sample_ID][\"counts\"]))\n",
    "                \n",
    "            plt.figure(1)\n",
    "            plt.plot(XRD_data[run_ID][sample_ID][\"2theta\"], np.log10(XRD_data[run_ID][sample_ID][\"counts\"]) + offset,\n",
    "                     label=sample_ID.replace(\"min\", \" min\"))\n",
    "            \n",
    "            offset += samplemax\n",
    "            \n",
    "plt.style.use('default')\n",
    "\n",
    "plt.xlabel(\"2θ [degrees]\", weight=\"semibold\")\n",
    "plt.ylabel(\"Counts\", weight=\"semibold\")\n",
    "fig_ax.set_yticklabels([])\n",
    "plt.xlim(min(XRD_data[\"etb048\"][\"15min\"][\"2theta\"]), max(XRD_data[\"etb048\"][\"15min\"][\"2theta\"]))\n",
    "\n",
    "plt.title(\"MAPbI Film Formation Elevated Growth Temp. XRD\",weight=\"semibold\")\n",
    "plt.legend(loc='center left', bbox_to_anchor=(1.01, 0,.3,1),mode='expand', frameon=False)"
   ]
  },
  {
   "cell_type": "code",
   "execution_count": null,
   "metadata": {
    "jupyter": {
     "source_hidden": true
    }
   },
   "outputs": [],
   "source": [
    "fig.savefig(\"plots/191121/MAPbI_temp/1min.png\", dpi=200, format='png', bbox_inches='tight')"
   ]
  },
  {
   "cell_type": "code",
   "execution_count": null,
   "metadata": {
    "jupyter": {
     "source_hidden": true
    }
   },
   "outputs": [],
   "source": [
    "fig2 = plt.figure(1, figsize=[6.4, 6])\n",
    "fig_ax = plt.gca()\n",
    "\n",
    "offset = 0\n",
    "master_cypher = (\n",
    "#     \"30sec\",\n",
    "#     \"1min\",\n",
    "#     \"2min\",\n",
    "#     \"3min\",\n",
    "#     \"4min\",\n",
    "    \"5min\",\n",
    "#     \"10min\",\n",
    "#     \"15min\",\n",
    "#     \"20min\",\n",
    "#     \"40min\",\n",
    "#     \"60min\",\n",
    "#     \"80min\",\n",
    "#     \"100min\",\n",
    "#     \"120min\",\n",
    "#     \"15min 50C\",\n",
    "#     \"15min 75C\",\n",
    "#     \"15min 100C\",\n",
    "#     \"1min 50C\",\n",
    "#     \"1min 75C\",\n",
    "#     \"1min 100C\",\n",
    "    \"5min 50C\",\n",
    "    \"5min 75C\",\n",
    "    \"5min 100C\",\n",
    "#     \"glassref\",\n",
    ")\n",
    "\n",
    "for sample_ID in master_cypher:\n",
    "    for run_ID in samples_dir.keys():\n",
    "        if sample_ID in XRD_data[run_ID].keys():\n",
    "            samplemax = max(np.log10(XRD_data[run_ID][sample_ID][\"counts\"]))\n",
    "                \n",
    "            plt.figure(1)\n",
    "            plt.plot(XRD_data[run_ID][sample_ID][\"2theta\"], np.log10(XRD_data[run_ID][sample_ID][\"counts\"]),\n",
    "                     label=sample_ID.replace(\"min\", \" min\"))\n",
    "            \n",
    "            offset += samplemax\n",
    "            \n",
    "plt.style.use('default')\n",
    "\n",
    "plt.xlabel(\"2θ [degrees]\", weight=\"semibold\")\n",
    "plt.ylabel(\"Counts\", weight=\"semibold\")\n",
    "fig_ax.set_yticklabels([])\n",
    "plt.xlim(10, 16)\n",
    "\n",
    "plt.title(\"MAPbI Film Formation Elevated Growth Temp. XRD\",weight=\"semibold\")\n",
    "plt.legend(loc='center left', bbox_to_anchor=(1.01, 0,.3,1),mode='expand', frameon=False)"
   ]
  },
  {
   "cell_type": "code",
   "execution_count": null,
   "metadata": {
    "jupyter": {
     "source_hidden": true
    }
   },
   "outputs": [],
   "source": [
    "fig2.savefig(\"plots/191121/MAPbI_temp/1min_10_16.png\", dpi=200, format='png', bbox_inches='tight')"
   ]
  },
  {
   "cell_type": "markdown",
   "metadata": {},
   "source": [
    "# MAPbBr Growth Temperature Study "
   ]
  },
  {
   "cell_type": "code",
   "execution_count": null,
   "metadata": {
    "jupyter": {
     "source_hidden": true
    }
   },
   "outputs": [],
   "source": [
    "# Identify the folder(s) where the raw, original data is\n",
    "# Use a list to store multiple directories that you want ready to plot\n",
    "XRD_data = {}\n",
    "\n",
    "# ETB-046 Variables\n",
    "samples_dir = {\n",
    "    \"etb049\": \"190911 ETB-049 MAPbBr on glass FF/\",\n",
    "    \"etb050\": \"191029 ETB-050 MAPbBr on glass FF/\",\n",
    "    \"etb053\": \"191108 ETB-053 MAPbBr on glass FF growth temp/\",\n",
    "    \"etb055\": \"191113 ETB-055 MAPbBr on glass FF growth temp/\",\n",
    "    \"etb057\": \"191118 ETB-057 MAPbBr on glass FF growth temp/\",\n",
    "}\n",
    "\n",
    "for run_ID in samples_dir.keys():\n",
    "    XRD_data[run_ID] = import_data.init(flag, samples_dir[run_ID])\n",
    "    \n",
    "cypher_etb049 = (\n",
    "    \"30sec\",\n",
    "    \"1min\",\n",
    "    \"2min\",\n",
    "    \"3min\",\n",
    "    \"4min\",\n",
    "    \"5min\",\n",
    "    \"10min\",\n",
    "    \"15min\",\n",
    "    \"20min\",\n",
    "    \"40min\",\n",
    "    \"60min\",\n",
    "    \"80min\",\n",
    "    \"100min\",\n",
    "    \"120min\",\n",
    "    \"15min 50C\",\n",
    "    \"15min 75C\",\n",
    "    \"15min 100C\",\n",
    "    \"1min 50C\",\n",
    "    \"1min 75C\",\n",
    "    \"1min 100C\",\n",
    "    \"glassref\",\n",
    "\n",
    ")"
   ]
  },
  {
   "cell_type": "code",
   "execution_count": null,
   "metadata": {
    "jupyter": {
     "source_hidden": true
    }
   },
   "outputs": [],
   "source": [
    "fig = plt.figure(1, figsize=[6.4, 6])\n",
    "fig_ax = plt.gca()\n",
    "\n",
    "offset = 0\n",
    "master_cypher = (\n",
    "#     \"30sec\",\n",
    "#     \"1min\",\n",
    "#     \"2min\",\n",
    "#     \"3min\",\n",
    "#     \"4min\",\n",
    "    \"5min\",\n",
    "#     \"10min\",\n",
    "#     \"15min\",\n",
    "#     \"20min\",\n",
    "#     \"40min\",\n",
    "#     \"60min\",\n",
    "#     \"80min\",\n",
    "#     \"100min\",\n",
    "#     \"120min\",\n",
    "#     \"15min 50C\",\n",
    "#     \"15min 75C\",\n",
    "#     \"15min 100C\",\n",
    "#     \"1min 50C\",\n",
    "#     \"1min 75C\",\n",
    "#     \"1min 100C\",\n",
    "    \"5min 50C\",\n",
    "    \"5min 75C\",\n",
    "    \"5min 100C\",\n",
    "#     \"glassref\",\n",
    ")\n",
    "\n",
    "for sample_ID in master_cypher:\n",
    "    for run_ID in samples_dir.keys():\n",
    "        if sample_ID in XRD_data[run_ID].keys():\n",
    "            samplemax = max(np.log10(XRD_data[run_ID][sample_ID][\"counts\"]))\n",
    "                \n",
    "            plt.figure(1)\n",
    "            plt.plot(XRD_data[run_ID][sample_ID][\"2theta\"], np.log10(XRD_data[run_ID][sample_ID][\"counts\"]) + offset,\n",
    "                     label=sample_ID.replace(\"min\", \" min\"))\n",
    "            \n",
    "            offset += samplemax\n",
    "            \n",
    "plt.style.use('default')\n",
    "\n",
    "plt.xlabel(\"2θ [degrees]\", weight=\"semibold\")\n",
    "plt.ylabel(\"Counts\", weight=\"semibold\")\n",
    "fig_ax.set_yticklabels([])\n",
    "plt.xlim(min(XRD_data[\"etb050\"][\"15min\"][\"2theta\"]), max(XRD_data[\"etb050\"][\"15min\"][\"2theta\"]))\n",
    "\n",
    "plt.title(\"MAPbBr Film Formation Elevated Growth Temp. XRD\",weight=\"semibold\")\n",
    "plt.legend(loc='center left', bbox_to_anchor=(1.01, 0,.3,1),mode='expand', frameon=False)"
   ]
  },
  {
   "cell_type": "code",
   "execution_count": null,
   "metadata": {
    "jupyter": {
     "source_hidden": true
    }
   },
   "outputs": [],
   "source": [
    "fig.savefig(\"plots/191121/MAPbBr_temp/5min.png\", dpi=200, format='png', bbox_inches='tight')"
   ]
  },
  {
   "cell_type": "code",
   "execution_count": null,
   "metadata": {
    "jupyter": {
     "source_hidden": true
    }
   },
   "outputs": [],
   "source": [
    "fig2 = plt.figure(1, figsize=[6.4, 6])\n",
    "fig_ax = plt.gca()\n",
    "\n",
    "offset = 0\n",
    "master_cypher = (\n",
    "#     \"30sec\",\n",
    "#     \"1min\",\n",
    "#     \"2min\",\n",
    "#     \"3min\",\n",
    "#     \"4min\",\n",
    "    \"5min\",\n",
    "#     \"10min\",\n",
    "#     \"15min\",\n",
    "#     \"20min\",\n",
    "#     \"40min\",\n",
    "#     \"60min\",\n",
    "#     \"80min\",\n",
    "#     \"100min\",\n",
    "#     \"120min\",\n",
    "#     \"15min 50C\",\n",
    "#     \"15min 75C\",\n",
    "#     \"15min 100C\",\n",
    "#     \"1min 50C\",\n",
    "#     \"1min 75C\",\n",
    "#     \"1min 100C\",\n",
    "    \"5min 50C\",\n",
    "    \"5min 75C\",\n",
    "    \"5min 100C\",\n",
    "#     \"glassref\",\n",
    ")\n",
    "\n",
    "for sample_ID in master_cypher:\n",
    "    for run_ID in samples_dir.keys():\n",
    "        if sample_ID in XRD_data[run_ID].keys():\n",
    "            samplemax = max(np.log10(XRD_data[run_ID][sample_ID][\"counts\"]))\n",
    "                \n",
    "            plt.figure(1)\n",
    "            plt.plot(XRD_data[run_ID][sample_ID][\"2theta\"], np.log10(XRD_data[run_ID][sample_ID][\"counts\"]),\n",
    "                     label=sample_ID.replace(\"min\", \" min\"))\n",
    "            \n",
    "            offset += samplemax\n",
    "            \n",
    "plt.style.use('default')\n",
    "\n",
    "plt.xlabel(\"2θ [degrees]\", weight=\"semibold\")\n",
    "plt.ylabel(\"Counts\", weight=\"semibold\")\n",
    "fig_ax.set_yticklabels([])\n",
    "plt.xlim(13, 16)\n",
    "\n",
    "plt.title(\"MAPbBr Film Formation Elevated Growth Temp. XRD\",weight=\"semibold\")\n",
    "plt.legend(loc='center left', bbox_to_anchor=(1.01, 0,.3,1),mode='expand', frameon=False)"
   ]
  },
  {
   "cell_type": "code",
   "execution_count": null,
   "metadata": {},
   "outputs": [],
   "source": [
    "fig2.savefig(\"plots/191121/MAPbBr_temp/5min_13_16.png\", dpi=200, format='png', bbox_inches='tight')"
   ]
  },
  {
   "cell_type": "markdown",
   "metadata": {},
   "source": [
    "# Dropcasting Solvent Study "
   ]
  },
  {
   "cell_type": "code",
   "execution_count": 6,
   "metadata": {},
   "outputs": [
    {
     "name": "stdin",
     "output_type": "stream",
     "text": [
      "\n",
      "Sample data already in local memory, do you wish to wipe and pull from the master Box directory? y/n\n",
      " y\n"
     ]
    }
   ],
   "source": [
    "# Identify the folder(s) where the raw, original data is\n",
    "# Use a list to store multiple directories that you want ready to plot\n",
    "XRD_data = {}\n",
    "\n",
    "# ETB-046 Variables\n",
    "samples_dir = {\n",
    "    \"dmso\": \"191118 Dropcast Samples/DMSO/\",\n",
    "}\n",
    "\n",
    "for run_ID in samples_dir.keys():\n",
    "    XRD_data[run_ID] = import_data.init(flag, samples_dir[run_ID])\n",
    "    \n",
    "cypher_etb049 = (\n",
    "    \"MAPLE MAPbI DMSO noMEG\",\n",
    "    \"MAPLE MAPbI DMSO wMEG\",\n",
    "    \"MAPLE PbI2 DMSO noMEG\",\n",
    "    \"MAPLE PbI2 DMSO wMEG\",\n",
    "    \"Spin DMSO\",\n",
    ")"
   ]
  },
  {
   "cell_type": "code",
   "execution_count": 14,
   "metadata": {},
   "outputs": [
    {
     "data": {
      "text/plain": [
       "<matplotlib.legend.Legend at 0x7f4e24df8908>"
      ]
     },
     "execution_count": 14,
     "metadata": {},
     "output_type": "execute_result"
    },
    {
     "data": {
      "image/png": "[encoded data removed]",
      "text/plain": [
       "<Figure size 640x600 with 1 Axes>"
      ]
     },
     "metadata": {},
     "output_type": "display_data"
    }
   ],
   "source": [
    "fig = plt.figure(1, figsize=[6.4, 6])\n",
    "fig_ax = plt.gca()\n",
    "\n",
    "offset = 0\n",
    "master_cypher = (\n",
    "    \"MAPLE MAPbI DMSO noMEG\",\n",
    "    \"MAPLE MAPbI DMSO wMEG\",\n",
    "    \"MAPLE PbI2 DMSO noMEG\",\n",
    "    \"MAPLE PbI2 DMSO wMEG\",\n",
    "    \"Spin DMSO\",\n",
    ")\n",
    "\n",
    "for sample_ID in master_cypher:\n",
    "    for run_ID in samples_dir.keys():\n",
    "        if sample_ID in XRD_data[run_ID].keys():\n",
    "            samplemax = max(np.log10(XRD_data[run_ID][sample_ID][\"counts\"]))\n",
    "                \n",
    "            plt.figure(1)\n",
    "            plt.plot(XRD_data[run_ID][sample_ID][\"2theta\"], np.log10(XRD_data[run_ID][sample_ID][\"counts\"]) + offset,\n",
    "                     label=sample_ID.replace(\"min\", \" min\"))\n",
    "            \n",
    "            offset += samplemax\n",
    "            \n",
    "plt.style.use('default')\n",
    "\n",
    "plt.xlabel(\"2θ [degrees]\", weight=\"semibold\")\n",
    "plt.ylabel(\"Counts\", weight=\"semibold\")\n",
    "fig_ax.set_yticklabels([])\n",
    "plt.xlim(min(XRD_data[\"dmso\"][\"Spin DMSO\"][\"2theta\"]), max(XRD_data[\"dmso\"][\"Spin DMSO\"][\"2theta\"]))\n",
    "\n",
    "plt.title(\"Dropcast DMSO Solutions XRD\",weight=\"semibold\")\n",
    "plt.legend(loc='center left', bbox_to_anchor=(1.01, 0,.5,1),mode='expand', frameon=False)"
   ]
  },
  {
   "cell_type": "code",
   "execution_count": 15,
   "metadata": {},
   "outputs": [],
   "source": [
    "fig.savefig(\"plots/191121/dropcast.png\", dpi=200, format='png', bbox_inches='tight')"
   ]
  }
 ],
 "metadata": {
  "kernelspec": {
   "display_name": "Python 3",
   "language": "python",
   "name": "python3"
  },
  "language_info": {
   "codemirror_mode": {
    "name": "ipython",
    "version": 3
   },
   "file_extension": ".py",
   "mimetype": "text/x-python",
   "name": "python",
   "nbconvert_exporter": "python",
   "pygments_lexer": "ipython3",
   "version": "3.7.3"
  }
 },
 "nbformat": 4,
 "nbformat_minor": 4
}
