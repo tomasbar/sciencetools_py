{
 "cells": [
  {
   "cell_type": "code",
   "execution_count": null,
   "metadata": {},
   "outputs": [],
   "source": [
    "import matplotlib\n",
    "import matplotlib.pyplot as plt\n",
    "import pandas as pd\n",
    "import numpy as np\n",
    "import importlib, os\n",
    "\n",
    "from lib import path_tools as pt\n",
    "from lib import import_data\n",
    "import pandas as pd"
   ]
  },
  {
   "cell_type": "code",
   "execution_count": null,
   "metadata": {},
   "outputs": [],
   "source": [
    "pt.wipe_scrap()\n",
    "\n",
    "# Set the technique we're working with today\n",
    "# Valid values: 'xrd', 'pl', 'uvvis'\n",
    "flag = \"uvvis\""
   ]
  },
  {
   "cell_type": "code",
   "execution_count": null,
   "metadata": {},
   "outputs": [],
   "source": [
    "importlib.reload(import_data)"
   ]
  },
  {
   "cell_type": "code",
   "execution_count": null,
   "metadata": {},
   "outputs": [],
   "source": [
    "# Identify the folder(s) where the raw, original data is\n",
    "# Use a list to store multiple directories that you want ready to plot\n",
    "\n",
    "# ETB-046 Variables\n",
    "samples_dir_etb046 = \"190904 ETB-046 MAPbI FF/\"\n",
    "uv_data_dict_etb046 = import_data.init(flag, samples_dir_etb046)\n",
    "cypher_etb046 = (\n",
    "    \"30sec\",\n",
    "    \"1min\",\n",
    "    \"1min_1\",\n",
    "    \"2min\",\n",
    "    \"3min\",\n",
    "    \"3min_1\",\n",
    "    \"5min\",\n",
    "    \"20min\",\n",
    ")\n",
    "\n",
    "print(pl_data_dict_etb046.keys())"
   ]
  },
  {
   "cell_type": "code",
   "execution_count": null,
   "metadata": {},
   "outputs": [],
   "source": []
  }
 ],
 "metadata": {
  "kernelspec": {
   "display_name": "Python 3",
   "language": "python",
   "name": "python3"
  },
  "language_info": {
   "codemirror_mode": {
    "name": "ipython",
    "version": 3
   },
   "file_extension": ".py",
   "mimetype": "text/x-python",
   "name": "python",
   "nbconvert_exporter": "python",
   "pygments_lexer": "ipython3",
   "version": "3.7.3"
  }
 },
 "nbformat": 4,
 "nbformat_minor": 2
}
