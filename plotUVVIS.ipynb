{
 "cells": [
  {
   "cell_type": "markdown",
   "metadata": {},
   "source": [
    "# Setup\n",
    "### Imports, wipe working directories, reload .py scripts"
   ]
  },
  {
   "cell_type": "code",
   "execution_count": 29,
   "metadata": {},
   "outputs": [
    {
     "name": "stdout",
     "output_type": "stream",
     "text": [
      "Once deleted, variables cannot be recovered. Proceed (y/[n])? y\n"
     ]
    }
   ],
   "source": [
    "%reset"
   ]
  },
  {
   "cell_type": "code",
   "execution_count": 30,
   "metadata": {},
   "outputs": [],
   "source": [
    "import matplotlib\n",
    "import matplotlib.pyplot as plt\n",
    "import pandas as pd\n",
    "import numpy as np\n",
    "import importlib, os\n",
    "\n",
    "from lib import path_tools as pt\n",
    "from lib import import_data\n",
    "\n",
    "%matplotlib inline"
   ]
  },
  {
   "cell_type": "code",
   "execution_count": 31,
   "metadata": {},
   "outputs": [],
   "source": [
    "pt.wipe_scrap()\n",
    "\n",
    "# Set the technique we're working with today\n",
    "# Valid values: 'xrd', 'pl', 'uvvis'\n",
    "flag = \"uvvis\""
   ]
  },
  {
   "cell_type": "code",
   "execution_count": 32,
   "metadata": {},
   "outputs": [],
   "source": [
    "importlib.reload(import_data);"
   ]
  },
  {
   "cell_type": "markdown",
   "metadata": {},
   "source": [
    "## MAPbI Data Import"
   ]
  },
  {
   "cell_type": "code",
   "execution_count": null,
   "metadata": {},
   "outputs": [],
   "source": [
    "# Identify the folder(s) where the raw, original data is\n",
    "# Use a list to store multiple directories that you want ready to plot\n",
    "\n",
    "# ETB-046 Variables\n",
    "samples_dir_etb046 = \"190904 ETB-046 MAPbI on glass FF/\"\n",
    "uv_data_dict_etb046 = import_data.init(flag, samples_dir_etb046)\n",
    "cypher_etb046 = (\n",
    "    \"30sec\",\n",
    "    \"1min\",\n",
    "    \"2min\",\n",
    "    \"3min\",\n",
    "    \"5min\",\n",
    "    \"20min\",\n",
    ")\n",
    "\n",
    "# ETB-047 Variables\n",
    "samples_dir_etb047 = \"190902 ETB-047 MAPbI on glass FF/\"\n",
    "uv_data_dict_etb047 = import_data.init(flag, samples_dir_etb047)\n",
    "cypher_etb047 = (\n",
    "    \"10min\",\n",
    "    \"40min\",\n",
    "    \"60min\",\n",
    "    \"80min\",\n",
    "    \"100min\",\n",
    "    \"120min\",\n",
    ")\n",
    "\n",
    "# ETB-048 Variables\n",
    "samples_dir_etb048 = \"190904 ETB-048 MAPbI on glass FF/\"\n",
    "uv_data_dict_etb048 = import_data.init(flag, samples_dir_etb048)\n",
    "cypher_etb048 = (\n",
    "    \"4min\",\n",
    "    \"15min\",\n",
    ")"
   ]
  },
  {
   "cell_type": "markdown",
   "metadata": {},
   "source": [
    "## EDBE Data Import\n",
    "\n",
    "### Data structure:\n",
    "\n",
    "##### uv_data\n",
    " - Run ID (etb0XX)\n",
    "     - Sample ID ('1min')\n",
    "          - wavelength\n",
    "          - counts"
   ]
  },
  {
   "cell_type": "code",
   "execution_count": null,
   "metadata": {},
   "outputs": [],
   "source": [
    "# Identify the folder(s) where the raw, original data is\n",
    "# Use a dict to store multiple directories that you want ready to plot\n",
    "\n",
    "samples_dir = {\n",
    "    \"etb043\": \"190709 ETB-043 EDBEPbBr on glass FF/\",\n",
    "    \"etb044\": \"190716 ETB-044 EDBEPbBr on glass FF/\",\n",
    "}\n",
    "\n",
    "for key in samples_dir.keys():\n",
    "    uv_data[key] = import_data.init(flag, samples_dir_etb046)\n",
    "cypher_etb046 = (\n",
    "    \"30sec\",\n",
    "    \"1min\",\n",
    "    \"2min\",\n",
    "    \"3min\",\n",
    "    \"5min\",\n",
    "    \"20min\",\n",
    ")\n",
    "\n",
    "# ETB-047 Variables\n",
    "samples_dir_etb047 = \"190902 ETB-047 MAPbI on glass FF/\"\n",
    "uv_data_dict_etb047 = import_data.init(flag, samples_dir_etb047)\n",
    "cypher_etb047 = (\n",
    "    \"10min\",\n",
    "    \"40min\",\n",
    "    \"60min\",\n",
    "    \"80min\",\n",
    "    \"100min\",\n",
    "    \"120min\",\n",
    ")\n",
    "\n",
    "# ETB-048 Variables\n",
    "samples_dir_etb048 = \"190904 ETB-048 MAPbI on glass FF/\"\n",
    "uv_data_dict_etb048 = import_data.init(flag, samples_dir_etb048)\n",
    "cypher_etb048 = (\n",
    "    \"4min\",\n",
    "    \"15min\",\n",
    ")"
   ]
  },
  {
   "cell_type": "code",
   "execution_count": null,
   "metadata": {},
   "outputs": [],
   "source": [
    "# Expression to find where index = X nm for normalizing later\n",
    "uv_data_dict_etb046['1min'].index[uv_data_dict_etb046['1min']['wavelength'] == 800]"
   ]
  },
  {
   "cell_type": "code",
   "execution_count": null,
   "metadata": {},
   "outputs": [],
   "source": [
    "fig = plt.figure(1)\n",
    "fig_ax = plt.gca()\n",
    "\n",
    "master_cypher = (\n",
    "    \"30sec\",\n",
    "    \"1min\",\n",
    "    \"2min\",\n",
    "    \"3min\",\n",
    "    \"4min\",\n",
    "    \"5min\",\n",
    "    \"10min\",\n",
    "    \"15min\",\n",
    "    \"20min\",\n",
    "    \"40min\",\n",
    "    \"60min\",\n",
    "    \"80min\",\n",
    "    \"100min\",\n",
    "    \"120min\",\n",
    ")\n",
    "\n",
    "for key in master_cypher:\n",
    "    if key in uv_data_dict_etb046.keys():\n",
    "        plt.figure(1)\n",
    "        plt.plot(uv_data_dict_etb046[key][\"wavelength\"], uv_data_dict_etb046[key][\"abs\"],\n",
    "#                  uv_data_dict_etb046[key][\"abs\"][400],\n",
    "                 label=key.replace(\"min\", \" min\"))\n",
    "    elif key in uv_data_dict_etb047.keys():\n",
    "        plt.figure(1)\n",
    "        plt.plot(uv_data_dict_etb047[key][\"wavelength\"], uv_data_dict_etb047[key][\"abs\"],\n",
    "#                  uv_data_dict_etb047[key][\"abs\"][400],\n",
    "                 label=key.replace(\"min\", \" min\"))\n",
    "    elif key in uv_data_dict_etb048.keys():\n",
    "        plt.figure(1)\n",
    "        plt.plot(uv_data_dict_etb048[key][\"wavelength\"], uv_data_dict_etb048[key][\"abs\"],\n",
    "#                  uv_data_dict_etb048[key][\"abs\"][400],\n",
    "                 label=key.replace(\"min\", \" min\"))\n",
    "        \n",
    "plt.style.use('default')\n",
    "\n",
    "plt.xlabel(\"Wavelength [nm]\", weight=\"semibold\")\n",
    "plt.ylabel(\"Absorption\", weight=\"semibold\")\n",
    "fig_ax.set_yticklabels([])\n",
    "plt.xlim(min(uv_data_dict_etb046[\"1min\"][\"wavelength\"]), max(uv_data_dict_etb046[\"1min\"][\"wavelength\"]))\n",
    "\n",
    "plt.title(\"MAPbI Film Formation UVVis - Early Stages\",weight=\"semibold\")\n",
    "plt.legend(loc='center left', bbox_to_anchor=(1.01, 0,.22,1), mode='expand', frameon=False)"
   ]
  },
  {
   "cell_type": "code",
   "execution_count": null,
   "metadata": {},
   "outputs": [],
   "source": [
    "fig.savefig(\"plots/190912/abs_all.png\", dpi=200, format='png', bbox_inches='tight')"
   ]
  }
 ],
 "metadata": {
  "celltoolbar": "Raw Cell Format",
  "kernelspec": {
   "display_name": "Python 3",
   "language": "python",
   "name": "python3"
  },
  "language_info": {
   "codemirror_mode": {
    "name": "ipython",
    "version": 3
   },
   "file_extension": ".py",
   "mimetype": "text/x-python",
   "name": "python",
   "nbconvert_exporter": "python",
   "pygments_lexer": "ipython3",
   "version": "3.7.3"
  }
 },
 "nbformat": 4,
 "nbformat_minor": 2
}
