{
 "cells": [
  {
   "cell_type": "code",
   "execution_count": 4,
   "metadata": {},
   "outputs": [],
   "source": [
    "import matplotlib\n",
    "import matplotlib.pyplot as plt\n",
    "import pandas as pd\n",
    "import numpy as np\n",
    "import importlib\n",
    "\n",
    "from lib import path_tools as pt\n",
    "from lib import import_data\n",
    "import pandas as pd"
   ]
  },
  {
   "cell_type": "code",
   "execution_count": 5,
   "metadata": {},
   "outputs": [],
   "source": [
    "pt.wipe_scrap()\n",
    "\n",
    "# Set the technique we're working with today\n",
    "# Valid values: 'xrd', 'pl', 'uvvis'\n",
    "flag = \"pl\""
   ]
  },
  {
   "cell_type": "code",
   "execution_count": 9,
   "metadata": {},
   "outputs": [
    {
     "data": {
      "text/plain": [
       "<module 'lib.import_data' from '/home/tomas/Documents/sciencetools_py/lib/import_data.py'>"
      ]
     },
     "execution_count": 9,
     "metadata": {},
     "output_type": "execute_result"
    }
   ],
   "source": [
    "importlib.reload(import_data)"
   ]
  },
  {
   "cell_type": "code",
   "execution_count": null,
   "metadata": {},
   "outputs": [],
   "source": [
    "\n",
    "# Identify the folder(s) where the raw, original data is\n",
    "# Use a list to store multiple directories that you want ready to plot\n",
    "\n",
    "# ETB-046 Variables\n",
    "samples_dir_etb046 = \"190904 ETB-046 MAPbI FF/\"\n",
    "pl_data_dict_etb046 = import_data.init(flag, samples_dir_etb046)\n",
    "cypher_etb046 = (\n",
    "    \"30sec\",\n",
    "    \"1min\",\n",
    "    \"1min_1\",\n",
    "    \"2min\",\n",
    "    \"3min\",\n",
    "    \"3min_1\",\n",
    "    \"5min\",\n",
    "    \"20min\",\n",
    ")\n",
    "\n",
    "print(pl_data_dict_etb046)"
   ]
  }
 ],
 "metadata": {
  "kernelspec": {
   "display_name": "Python 3",
   "language": "python",
   "name": "python3"
  },
  "language_info": {
   "codemirror_mode": {
    "name": "ipython",
    "version": 3
   },
   "file_extension": ".py",
   "mimetype": "text/x-python",
   "name": "python",
   "nbconvert_exporter": "python",
   "pygments_lexer": "ipython3",
   "version": "3.7.3"
  }
 },
 "nbformat": 4,
 "nbformat_minor": 4
}
