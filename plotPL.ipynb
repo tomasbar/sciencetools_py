{
 "cells": [
  {
   "cell_type": "markdown",
   "metadata": {},
   "source": [
    "# Setup\n",
    "### Imports, wipe working directories, reload .py scripts"
   ]
  },
  {
   "cell_type": "code",
   "execution_count": 2,
   "metadata": {},
   "outputs": [
    {
     "name": "stdin",
     "output_type": "stream",
     "text": [
      "Once deleted, variables cannot be recovered. Proceed (y/[n])?  y\n"
     ]
    }
   ],
   "source": [
    "%reset"
   ]
  },
  {
   "cell_type": "code",
   "execution_count": 3,
   "metadata": {},
   "outputs": [],
   "source": [
    "import matplotlib\n",
    "import matplotlib.pyplot as plt\n",
    "import pandas as pd\n",
    "import numpy as np\n",
    "import importlib, os\n",
    "\n",
    "from lib import path_tools as pt\n",
    "from lib import import_data\n",
    "\n",
    "%matplotlib inline"
   ]
  },
  {
   "cell_type": "code",
   "execution_count": 4,
   "metadata": {},
   "outputs": [],
   "source": [
    "pt.wipe_scrap()\n",
    "\n",
    "# Set the technique we're working with today\n",
    "# Valid values: 'xrd', 'pl', 'uvvis'\n",
    "flag = \"pl\""
   ]
  },
  {
   "cell_type": "code",
   "execution_count": 15,
   "metadata": {},
   "outputs": [
    {
     "data": {
      "text/plain": [
       "<module 'lib.import_data' from '/home/tomas/Documents/sciencetools_py/lib/import_data.py'>"
      ]
     },
     "execution_count": 15,
     "metadata": {},
     "output_type": "execute_result"
    }
   ],
   "source": [
    "importlib.reload(import_data)"
   ]
  },
  {
   "cell_type": "markdown",
   "metadata": {},
   "source": [
    "## MAPbI Data Import\n",
    "\n",
    "***\n",
    "\n",
    "### Data structure:\n",
    "\n",
    "uv_data\n",
    " - Run ID (etb0XX)\n",
    "     - Sample ID ('1min')\n",
    "          - wavelength\n",
    "          - counts\n",
    "\n",
    "***\n",
    "\n",
    "### Run -> Sample Correspondence\n",
    "|ETB-043|ETB-044|\n",
    "|---|---|\n",
    "|20min|1min|\n",
    "|40min|2min|\n",
    "|60min|5min|\n",
    "|80min|10min|\n",
    "|100min|15min|\n",
    "|120min|20min|"
   ]
  },
  {
   "cell_type": "code",
   "execution_count": null,
   "metadata": {},
   "outputs": [],
   "source": [
    "# Identify the folder(s) where the raw, original data is\n",
    "# Use a list to store multiple directories that you want ready to plot\n",
    "pl_data = {}\n",
    "# ETB-046 Variables\n",
    "samples_dir = {\n",
    "    \"etb046\": \"190904 ETB-046 MAPbI FF/\",\n",
    "    \"etb047\": \"190902 ETB-047 MAPbI FF/\",\n",
    "    \"etb048\": \"190904 ETB-048 MAPbI FF/\",\n",
    "}\n",
    "\n",
    "for run_ID in samples_dir:\n",
    "    pl_data[run_ID] = import_data.init(flag, samples_dir[run_ID])\n",
    "\n",
    "cypher_etb046 = (\n",
    "    \"30sec\",\n",
    "    \"1min\",\n",
    "    \"1min_1\",\n",
    "    \"2min\",\n",
    "    \"3min\",\n",
    "    \"3min_1\",\n",
    "    \"5min\",\n",
    "    \"20min\",\n",
    ")\n",
    "\n",
    "cypher_etb047 = (\n",
    "    \"10min-1\",\n",
    "    \"40min-1\",\n",
    "    \"60min\",\n",
    "    \"60min-1\",\n",
    "    \"60min-point1\",\n",
    "    \"80min-1\",\n",
    "    \"100min\",\n",
    "    \"100min-1percent\",\n",
    "    \"120min-1percent\",\n",
    "    \"120min-point1percent\",\n",
    "    \"120min-point1percent_1\",\n",
    ")\n",
    "\n",
    "cypher_etb048 = (\n",
    "    \"4min\",\n",
    "    \"15min\",\n",
    ")"
   ]
  },
  {
   "cell_type": "code",
   "execution_count": null,
   "metadata": {},
   "outputs": [],
   "source": [
    "fig = plt.figure(1)\n",
    "fig_ax = plt.gca()\n",
    "\n",
    "master_cypher = (\n",
    "#     \"30sec\",\n",
    "#     \"1min\",\n",
    "#     \"1min_1\",\n",
    "#     \"2min\",\n",
    "#     \"3min\",\n",
    "#     \"3min_1\",\n",
    "    \"4min\",\n",
    "    \"5min\",\n",
    "    \"10min-1\",\n",
    "    \"20min\",\n",
    "    \"40min-1\",\n",
    "#     \"60min\",\n",
    "    \"60min-1\",\n",
    "#     \"60min-point1\",\n",
    "    \"80min-1\",\n",
    "#     \"100min\",\n",
    "    \"100min-1percent\",\n",
    "#     \"120min-1percent\",\n",
    "    \"120min-point1percent\",\n",
    "    \"120min-point1percent_1\",\n",
    ")\n",
    "\n",
    "for sample_ID in master_cypher:\n",
    "    for run_ID in samples_dir.keys():\n",
    "        if sample_ID in pl_data[run_ID].keys():\n",
    "            plt.figure(1)\n",
    "            plt.plot(pl_data[run_ID][sample_ID][\"wavelength\"], pl_data[run_ID][sample_ID][\"counts\"]/\n",
    "                     abs(max(pl_data[run_ID][sample_ID][\"counts\"])),\n",
    "                     label=sample_ID.replace(\"min\", \" min\"))\n",
    "        else:\n",
    "            pass\n",
    "        \n",
    "plt.style.use('default')\n",
    "\n",
    "plt.xlabel(\"Wavelength [nm]\", weight=\"semibold\")\n",
    "plt.ylabel(\"Counts\", weight=\"semibold\")\n",
    "# fig_ax.set_yticklabels([])\n",
    "plt.xlim(min(pl_data[\"etb046\"][\"1min\"][\"wavelength\"]), max(pl_data[\"etb046\"][\"1min\"][\"wavelength\"]))\n",
    "\n",
    "plt.title(\"MAPbI Film Formation PL\",weight=\"semibold\")\n",
    "plt.legend(loc='center left', bbox_to_anchor=(1.01, 0,.5,1),mode='expand', frameon=False)"
   ]
  },
  {
   "cell_type": "code",
   "execution_count": null,
   "metadata": {},
   "outputs": [],
   "source": [
    "fig.savefig(\"plots/190912/PL_all_stacked_norm.png\", dpi=200, format='png', bbox_inches='tight')"
   ]
  },
  {
   "cell_type": "markdown",
   "metadata": {},
   "source": [
    "## MAPbBr Data Import\n",
    "\n",
    "***\n",
    "\n",
    "### Data structure:\n",
    "\n",
    "uv_data\n",
    " - Run ID (etb0XX)\n",
    "     - Sample ID ('1min')\n",
    "          - wavelength\n",
    "          - counts\n",
    "\n",
    "***\n",
    "\n",
    "### Run -> Sample Correspondence\n",
    "|ETB-049|ETB-0XX|\n",
    "|---|---|\n",
    "|1min|Xmin|\n",
    "|2min|Xmin|\n",
    "|3min|Xmin|\n",
    "|5min|Xmin|\n",
    "|10min|Xmin|\n",
    "|30sec|Xmin|"
   ]
  },
  {
   "cell_type": "code",
   "execution_count": 16,
   "metadata": {},
   "outputs": [
    {
     "name": "stdin",
     "output_type": "stream",
     "text": [
      "\n",
      "Sample data already in local memory, do you wish to wipe and pull from the master Box directory? y/n\n",
      " y\n"
     ]
    }
   ],
   "source": [
    "# Identify the folder(s) where the raw, original data is\n",
    "# Use a list to store multiple directories that you want ready to plot\n",
    "pl_data = {}\n",
    "\n",
    "# MAPbBr Data Dict\n",
    "samples_dir = {\n",
    "    \"etb049\": \"190911 ETB-049 MAPbBr FF/\",\n",
    "}\n",
    "\n",
    "for run_ID in samples_dir:\n",
    "    pl_data[run_ID] = import_data.init(flag, samples_dir[run_ID])\n",
    "\n",
    "cypher_etb046 = (\n",
    "    '1min',\n",
    "    '2min',\n",
    "    '3min',\n",
    "    '5min',\n",
    "    '10min',\n",
    "    '30sec',\n",
    ")\n"
   ]
  },
  {
   "cell_type": "code",
   "execution_count": 27,
   "metadata": {},
   "outputs": [
    {
     "data": {
      "image/png": "[encoded data removed]",
      "text/plain": [
       "<Figure size 640x480 with 1 Axes>"
      ]
     },
     "metadata": {},
     "output_type": "display_data"
    }
   ],
   "source": [
    "fig = plt.figure(1)\n",
    "fig_ax = plt.gca()\n",
    "\n",
    "master_cypher = (\n",
    "    \"30sec\",\n",
    "    \"1min\",\n",
    "    \"2min\",\n",
    "    \"3min\",\n",
    "#     \"4min\",\n",
    "    \"5min\",\n",
    "    \"10min\",\n",
    "#     \"20min\",\n",
    "#     \"60min\",\n",
    "#     \"80min-1\",\n",
    "#     \"100min\",\n",
    "#     \"120min-1percent\",\n",
    ")\n",
    "\n",
    "for sample_ID in master_cypher:\n",
    "    for run_ID in samples_dir.keys():\n",
    "        if sample_ID in pl_data[run_ID].keys():\n",
    "            plt.figure(1)\n",
    "            plt.plot(pl_data[run_ID][sample_ID][\"wavelength\"], pl_data[run_ID][sample_ID][\"counts\"],\n",
    "#                      abs(float(max(pl_data[run_ID][sample_ID][\"counts\"]))),\n",
    "                     label=sample_ID.replace(\"min\", \" min\"))\n",
    "        else:\n",
    "            pass\n",
    "        \n",
    "plt.style.use('default')\n",
    "\n",
    "plt.xlabel(\"Wavelength [nm]\", weight=\"semibold\")\n",
    "plt.ylabel(\"Counts\", weight=\"semibold\")\n",
    "# fig_ax.set_yticklabels([])\n",
    "plt.xlim(min(pl_data[\"etb049\"][\"1min\"][\"wavelength\"]), max(pl_data[\"etb049\"][\"1min\"][\"wavelength\"]))\n",
    "\n",
    "plt.title(\"MAPbBr Film Formation PL\",weight=\"semibold\")\n",
    "plt.legend(loc='center left', bbox_to_anchor=(1.01, 0,.5,1),mode='expand', frameon=False)\n",
    "\n",
    "plt.show()"
   ]
  },
  {
   "cell_type": "code",
   "execution_count": 28,
   "metadata": {},
   "outputs": [],
   "source": [
    "fig.savefig(\"plots/191003/PL_early_stacked.png\", dpi=200, format='png', bbox_inches='tight')"
   ]
  }
 ],
 "metadata": {
  "kernelspec": {
   "display_name": "Python 3",
   "language": "python",
   "name": "python3"
  },
  "language_info": {
   "codemirror_mode": {
    "name": "ipython",
    "version": 3
   },
   "file_extension": ".py",
   "mimetype": "text/x-python",
   "name": "python",
   "nbconvert_exporter": "python",
   "pygments_lexer": "ipython3",
   "version": "3.7.3"
  }
 },
 "nbformat": 4,
 "nbformat_minor": 4
}
