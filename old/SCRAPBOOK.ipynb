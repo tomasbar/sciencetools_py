{
 "cells": [
  {
   "cell_type": "markdown",
   "metadata": {},
   "source": [
    "# Setup\n",
    "### Imports, wipe working directories, reload .py scripts"
   ]
  },
  {
   "cell_type": "code",
   "execution_count": 1,
   "metadata": {},
   "outputs": [
    {
     "name": "stdout",
     "output_type": "stream",
     "text": [
      "Once deleted, variables cannot be recovered. Proceed (y/[n])? y\n"
     ]
    }
   ],
   "source": [
    "%reset"
   ]
  },
  {
   "cell_type": "code",
   "execution_count": 1,
   "metadata": {},
   "outputs": [],
   "source": [
    "import matplotlib\n",
    "import matplotlib.pyplot as plt\n",
    "import pandas as pd\n",
    "import numpy as np\n",
    "import importlib, os, ipywidgets\n",
    "import seaborn\n",
    "\n",
    "from lib import path_tools as pt\n",
    "from lib import import_data\n",
    "\n",
    "%matplotlib widget"
   ]
  },
  {
   "cell_type": "code",
   "execution_count": 2,
   "metadata": {},
   "outputs": [
    {
     "data": {
      "application/vnd.jupyter.widget-view+json": {
       "model_id": "783986d7474f4fda996309fe4bf16742",
       "version_major": 2,
       "version_minor": 0
      },
      "text/plain": [
       "interactive(children=(Dropdown(description='name', options=('Greys', 'Reds', 'Greens', 'Blues', 'Oranges', 'Pu…"
      ]
     },
     "metadata": {},
     "output_type": "display_data"
    },
    {
     "data": {
      "text/plain": [
       "[(0.9575547866205305, 0.9575547866205305, 0.9575547866205305),\n",
       " (0.9012072279892349, 0.9012072279892349, 0.9012072279892349),\n",
       " (0.8328950403690888, 0.8328950403690888, 0.8328950403690888),\n",
       " (0.7502191464821223, 0.7502191464821223, 0.7502191464821223),\n",
       " (0.6434140715109573, 0.6434140715109573, 0.6434140715109573),\n",
       " (0.5387158785082661, 0.5387158785082661, 0.5387158785082661),\n",
       " (0.440322952710496, 0.440322952710496, 0.440322952710496),\n",
       " (0.342883506343714, 0.342883506343714, 0.342883506343714),\n",
       " (0.22329873125720878, 0.22329873125720878, 0.22329873125720878),\n",
       " (0.10469819300269129, 0.10469819300269129, 0.10469819300269129)]"
      ]
     },
     "execution_count": 2,
     "metadata": {},
     "output_type": "execute_result"
    }
   ],
   "source": [
    "seaborn.choose_colorbrewer_palette(\"s\")"
   ]
  },
  {
   "cell_type": "code",
   "execution_count": null,
   "metadata": {},
   "outputs": [],
   "source": [
    "pt.wipe_scrap()\n",
    "\n",
    "# Set the technique we're working with today\n",
    "# Valid values: 'xrd', 'pl', 'uvvis'\n",
    "flag = \"uvvis\""
   ]
  },
  {
   "cell_type": "code",
   "execution_count": null,
   "metadata": {},
   "outputs": [],
   "source": [
    "importlib.reload(import_data);"
   ]
  },
  {
   "cell_type": "code",
   "execution_count": null,
   "metadata": {},
   "outputs": [],
   "source": [
    "# Identify the folder(s) where the raw, original data is\n",
    "# Use a dict to store multiple directories that you want ready to plot\n",
    "uv_data = {}\n",
    "samples_dir = {\n",
    "    \"etb068\": \"200122 ETB-068 CsAgBiBr/\",\n",
    "}\n",
    "\n",
    "for run_ID in samples_dir.keys():\n",
    "    uv_data[run_ID] = import_data.init(flag, samples_dir[run_ID])\n"
   ]
  },
  {
   "cell_type": "code",
   "execution_count": null,
   "metadata": {},
   "outputs": [],
   "source": [
    "# Expression to find where index = X nm for normalizing later\n",
    "uv_data[\"etb044\"]['1min'].index[uv_data[\"etb044\"]['1min']['wavelength'] == 550]"
   ]
  },
  {
   "cell_type": "code",
   "execution_count": null,
   "metadata": {},
   "outputs": [],
   "source": [
    "fig = plt.figure(1)\n",
    "fig_ax = plt.gca()\n",
    "\n",
    "plotted = None\n",
    "localmax = 0\n",
    "# Comment out any undersired samples\n",
    "master_cypher = (\n",
    "    \"10min 110C\",\n",
    ")\n",
    "\n",
    "# PUT THIS IN MAIN.PY LATER\n",
    "# def sortsamples\n",
    "\n",
    "for sample_ID in master_cypher:\n",
    "    \n",
    "    for run_ID in samples_dir.keys():\n",
    "        if sample_ID in uv_data[run_ID].keys() and plotted != True:\n",
    "            \n",
    "            localmax = uv_data[run_ID][sample_ID][\"abs\"].loc[50:120].max()\n",
    "            \n",
    "            plt.figure(1)\n",
    "            plt.plot(uv_data[run_ID][sample_ID][\"wavelength\"], uv_data[run_ID][sample_ID][\"abs\"],\n",
    "#                      localmax,\n",
    "                     label=sample_ID.replace(\"min\", \" min\"))\n",
    "            \n",
    "            plotted = True\n",
    "            localmax = 0\n",
    "        else:\n",
    "            pass\n",
    "    \n",
    "    plotted = False\n",
    "\n",
    "plt.style.use('default')\n",
    "\n",
    "plt.xlabel(\"Wavelength [nm]\", weight=\"semibold\")\n",
    "plt.ylabel(\"Absorption\", weight=\"semibold\")\n",
    "fig_ax.set_yticklabels([])\n",
    "# plt.xlim(min(uv_data[\"etb068\"][\"10min 110C\"][\"wavelength\"]), max(uv_data[\"etb068\"][\"10min 110C\"][\"wavelength\"]))\n",
    "plt.xlim(400, 550)\n",
    "\n",
    "plt.title(\"Cs$_2$AgBiBr$_6$ UV-Vis Absorbance\",weight=\"semibold\")\n",
    "# plt.legend(loc='center left', bbox_to_anchor=(1.01, 0,.22,1), mode='expand', frameon=False)"
   ]
  },
  {
   "cell_type": "code",
   "execution_count": null,
   "metadata": {},
   "outputs": [],
   "source": [
    "uv_data[\"etb045\"][\"4min\"][\"abs\"].loc[50:120].max()"
   ]
  },
  {
   "cell_type": "code",
   "execution_count": null,
   "metadata": {},
   "outputs": [],
   "source": [
    "fig.savefig(\"plots/200122/csagbibr.png\", dpi=200, format='png', bbox_inches='tight')"
   ]
  },
  {
   "cell_type": "markdown",
   "metadata": {},
   "source": [
    "# XRD"
   ]
  },
  {
   "cell_type": "code",
   "execution_count": null,
   "metadata": {},
   "outputs": [],
   "source": [
    "pt.wipe_scrap()\n",
    "\n",
    "# Set the technique we're working with today\n",
    "# Valid values: 'xrd', 'pl', 'uvvis'\n",
    "flag = \"xrd\""
   ]
  },
  {
   "cell_type": "code",
   "execution_count": null,
   "metadata": {},
   "outputs": [],
   "source": [
    "importlib.reload(import_data)"
   ]
  },
  {
   "cell_type": "code",
   "execution_count": null,
   "metadata": {},
   "outputs": [],
   "source": [
    "# Identify the folder(s) where the raw, original data is\n",
    "# Use a list to store multiple directories that you want ready to plot\n",
    "XRD_data = {}\n",
    "\n",
    "# ETB-046 Variables\n",
    "samples_dir = {\n",
    "    \"etb068\": \"200120 ETB-068 CsAgBiBr on glass/\",\n",
    "}\n",
    "\n",
    "for run_ID in samples_dir.keys():\n",
    "    XRD_data[run_ID] = import_data.init(flag, samples_dir[run_ID])"
   ]
  },
  {
   "cell_type": "code",
   "execution_count": null,
   "metadata": {},
   "outputs": [],
   "source": [
    "fig = plt.figure(1, figsize=[10, 6])\n",
    "fig_ax = plt.gca()\n",
    "\n",
    "offset = 0\n",
    "lbl = []\n",
    "\n",
    "master_cypher = (\n",
    "    \"Precipitate powder\",\n",
    ")\n",
    "\n",
    "for sample_ID in master_cypher:\n",
    "    for run_ID in samples_dir.keys():\n",
    "        if sample_ID in XRD_data[run_ID].keys():\n",
    "            samplemax = max(np.log10(XRD_data[run_ID][sample_ID][\"counts\"]))\n",
    "            \n",
    "            if \"min\" in sample_ID:\n",
    "                lbl = sample_ID.replace(\"min\", \" min\")\n",
    "            elif \"sec\" in sample_ID:\n",
    "                lbl = sample_ID.replace(\"sec\", \" sec\")\n",
    "                \n",
    "            if \"C\" in lbl:\n",
    "                lbl = lbl.replace(\"C\", \"°C\")\n",
    "                \n",
    "            plt.figure(1)\n",
    "            plt.plot(XRD_data[run_ID][sample_ID][\"2theta\"], XRD_data[run_ID][sample_ID][\"counts\"],\n",
    "                     label=lbl)\n",
    "            \n",
    "            offset += samplemax\n",
    "            \n",
    "plt.style.use('default')\n",
    "\n",
    "plt.xlabel(\"2θ [degrees]\", weight=\"semibold\")\n",
    "plt.ylabel(\"Counts\", weight=\"semibold\")\n",
    "fig_ax.set_yticklabels([])\n",
    "plt.xlim(5, max(XRD_data[\"etb068\"][\"10min 110C RESCAN\"][\"2theta\"]))\n",
    "\n",
    "plt.title(\"MAPLE Solution Precipitate XRD\",weight=\"semibold\")\n",
    "# plt.legend(loc='center left', bbox_to_anchor=(1.01, 0,.22,1),mode='expand', frameon=False)"
   ]
  },
  {
   "cell_type": "code",
   "execution_count": null,
   "metadata": {},
   "outputs": [],
   "source": [
    "fig.savefig(\"plots/200122/precipitate_XRD.png\", dpi=200, format='png', bbox_inches='tight')"
   ]
  }
 ],
 "metadata": {
  "celltoolbar": "Raw Cell Format",
  "kernelspec": {
   "display_name": "Python 3",
   "language": "python",
   "name": "python3"
  },
  "language_info": {
   "codemirror_mode": {
    "name": "ipython",
    "version": 3
   },
   "file_extension": ".py",
   "mimetype": "text/x-python",
   "name": "python",
   "nbconvert_exporter": "python",
   "pygments_lexer": "ipython3",
   "version": "3.7.3"
  }
 },
 "nbformat": 4,
 "nbformat_minor": 4
}
